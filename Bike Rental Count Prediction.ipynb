{
 "cells": [
  {
   "cell_type": "markdown",
   "id": "3164226f",
   "metadata": {},
   "source": [
    "**Project title :- Bike Renting using Python**\n",
    "\n",
    "**Problem statement :-**\n",
    "\n",
    "The objective of this Case is to Predication of bike rental count on daily based on the environmental and seasonal settings.\n",
    "\n",
    "**Contents :-**\n",
    "\n",
    "    1. Exploratory Data Analysis\n",
    "       * Loading the dataset and libraries\n",
    "       * Data cleaning\n",
    "       * Typecasting the attributes\n",
    "       * Missing value analysis\n",
    "    2. Attributes distributions and trends\n",
    "       * Monthly distribution of counts\n",
    "       * Yearly distribution of counts\n",
    "       * Outliers analysis\n",
    "    3. Normality test\n",
    "    4. Correlation matrix \n",
    "    5. Split the dataset into train and test dataset\n",
    "    6. Encoding the categorical features\n",
    "    7. Modelling the training dataset\n",
    "       * Random Forest Model\n",
    "    8. Cross Validation Prediction\n",
    "       * Random Forest CV Prediction\n",
    "    9. Model performance on test dataset\n",
    "       * Random Forest Prediction\n",
    "    10. Model Evaluation Metrics\n",
    "       * R-squared score\n",
    "       * Root mean square error\n",
    "       * Mean absolute error\n",
    "    11.Choosing best model for predicting bike rental count"
   ]
  },
  {
   "cell_type": "markdown",
   "id": "fdac2cfe",
   "metadata": {},
   "source": [
    "**Exploratory Data Analysis**"
   ]
  },
  {
   "cell_type": "markdown",
   "id": "eec63121",
   "metadata": {},
   "source": [
    "**Import the Required Libraries**"
   ]
  },
  {
   "cell_type": "code",
   "execution_count": 1,
   "id": "9d4d5060",
   "metadata": {},
   "outputs": [],
   "source": [
    "import numpy as np\n",
    "import pandas as pd\n",
    "import matplotlib.pyplot  as plt\n",
    "import seaborn as sns\n",
    "import warnings\n",
    "warnings.filterwarnings(\"ignore\")\n"
   ]
  },
  {
   "cell_type": "markdown",
   "id": "1508f4d4",
   "metadata": {},
   "source": [
    "**Reading the Training Data**"
   ]
  },
  {
   "cell_type": "code",
   "execution_count": 2,
   "id": "18ba8075",
   "metadata": {},
   "outputs": [],
   "source": [
    "bike_sharing = pd.read_csv(\"data/day.csv\")"
   ]
  },
  {
   "cell_type": "code",
   "execution_count": 3,
   "id": "a8e52944",
   "metadata": {},
   "outputs": [
    {
     "data": {
      "text/html": [
       "<div>\n",
       "<style scoped>\n",
       "    .dataframe tbody tr th:only-of-type {\n",
       "        vertical-align: middle;\n",
       "    }\n",
       "\n",
       "    .dataframe tbody tr th {\n",
       "        vertical-align: top;\n",
       "    }\n",
       "\n",
       "    .dataframe thead th {\n",
       "        text-align: right;\n",
       "    }\n",
       "</style>\n",
       "<table border=\"1\" class=\"dataframe\">\n",
       "  <thead>\n",
       "    <tr style=\"text-align: right;\">\n",
       "      <th></th>\n",
       "      <th>instant</th>\n",
       "      <th>dteday</th>\n",
       "      <th>season</th>\n",
       "      <th>yr</th>\n",
       "      <th>mnth</th>\n",
       "      <th>holiday</th>\n",
       "      <th>weekday</th>\n",
       "      <th>workingday</th>\n",
       "      <th>weathersit</th>\n",
       "      <th>temp</th>\n",
       "      <th>atemp</th>\n",
       "      <th>hum</th>\n",
       "      <th>windspeed</th>\n",
       "      <th>casual</th>\n",
       "      <th>registered</th>\n",
       "      <th>cnt</th>\n",
       "    </tr>\n",
       "  </thead>\n",
       "  <tbody>\n",
       "    <tr>\n",
       "      <th>0</th>\n",
       "      <td>1</td>\n",
       "      <td>2011-01-01</td>\n",
       "      <td>1</td>\n",
       "      <td>0</td>\n",
       "      <td>1</td>\n",
       "      <td>0</td>\n",
       "      <td>6</td>\n",
       "      <td>0</td>\n",
       "      <td>2</td>\n",
       "      <td>0.344167</td>\n",
       "      <td>0.363625</td>\n",
       "      <td>0.805833</td>\n",
       "      <td>0.160446</td>\n",
       "      <td>331</td>\n",
       "      <td>654</td>\n",
       "      <td>985</td>\n",
       "    </tr>\n",
       "    <tr>\n",
       "      <th>1</th>\n",
       "      <td>2</td>\n",
       "      <td>2011-01-02</td>\n",
       "      <td>1</td>\n",
       "      <td>0</td>\n",
       "      <td>1</td>\n",
       "      <td>0</td>\n",
       "      <td>0</td>\n",
       "      <td>0</td>\n",
       "      <td>2</td>\n",
       "      <td>0.363478</td>\n",
       "      <td>0.353739</td>\n",
       "      <td>0.696087</td>\n",
       "      <td>0.248539</td>\n",
       "      <td>131</td>\n",
       "      <td>670</td>\n",
       "      <td>801</td>\n",
       "    </tr>\n",
       "    <tr>\n",
       "      <th>2</th>\n",
       "      <td>3</td>\n",
       "      <td>2011-01-03</td>\n",
       "      <td>1</td>\n",
       "      <td>0</td>\n",
       "      <td>1</td>\n",
       "      <td>0</td>\n",
       "      <td>1</td>\n",
       "      <td>1</td>\n",
       "      <td>1</td>\n",
       "      <td>0.196364</td>\n",
       "      <td>0.189405</td>\n",
       "      <td>0.437273</td>\n",
       "      <td>0.248309</td>\n",
       "      <td>120</td>\n",
       "      <td>1229</td>\n",
       "      <td>1349</td>\n",
       "    </tr>\n",
       "    <tr>\n",
       "      <th>3</th>\n",
       "      <td>4</td>\n",
       "      <td>2011-01-04</td>\n",
       "      <td>1</td>\n",
       "      <td>0</td>\n",
       "      <td>1</td>\n",
       "      <td>0</td>\n",
       "      <td>2</td>\n",
       "      <td>1</td>\n",
       "      <td>1</td>\n",
       "      <td>0.200000</td>\n",
       "      <td>0.212122</td>\n",
       "      <td>0.590435</td>\n",
       "      <td>0.160296</td>\n",
       "      <td>108</td>\n",
       "      <td>1454</td>\n",
       "      <td>1562</td>\n",
       "    </tr>\n",
       "    <tr>\n",
       "      <th>4</th>\n",
       "      <td>5</td>\n",
       "      <td>2011-01-05</td>\n",
       "      <td>1</td>\n",
       "      <td>0</td>\n",
       "      <td>1</td>\n",
       "      <td>0</td>\n",
       "      <td>3</td>\n",
       "      <td>1</td>\n",
       "      <td>1</td>\n",
       "      <td>0.226957</td>\n",
       "      <td>0.229270</td>\n",
       "      <td>0.436957</td>\n",
       "      <td>0.186900</td>\n",
       "      <td>82</td>\n",
       "      <td>1518</td>\n",
       "      <td>1600</td>\n",
       "    </tr>\n",
       "    <tr>\n",
       "      <th>...</th>\n",
       "      <td>...</td>\n",
       "      <td>...</td>\n",
       "      <td>...</td>\n",
       "      <td>...</td>\n",
       "      <td>...</td>\n",
       "      <td>...</td>\n",
       "      <td>...</td>\n",
       "      <td>...</td>\n",
       "      <td>...</td>\n",
       "      <td>...</td>\n",
       "      <td>...</td>\n",
       "      <td>...</td>\n",
       "      <td>...</td>\n",
       "      <td>...</td>\n",
       "      <td>...</td>\n",
       "      <td>...</td>\n",
       "    </tr>\n",
       "    <tr>\n",
       "      <th>726</th>\n",
       "      <td>727</td>\n",
       "      <td>2012-12-27</td>\n",
       "      <td>1</td>\n",
       "      <td>1</td>\n",
       "      <td>12</td>\n",
       "      <td>0</td>\n",
       "      <td>4</td>\n",
       "      <td>1</td>\n",
       "      <td>2</td>\n",
       "      <td>0.254167</td>\n",
       "      <td>0.226642</td>\n",
       "      <td>0.652917</td>\n",
       "      <td>0.350133</td>\n",
       "      <td>247</td>\n",
       "      <td>1867</td>\n",
       "      <td>2114</td>\n",
       "    </tr>\n",
       "    <tr>\n",
       "      <th>727</th>\n",
       "      <td>728</td>\n",
       "      <td>2012-12-28</td>\n",
       "      <td>1</td>\n",
       "      <td>1</td>\n",
       "      <td>12</td>\n",
       "      <td>0</td>\n",
       "      <td>5</td>\n",
       "      <td>1</td>\n",
       "      <td>2</td>\n",
       "      <td>0.253333</td>\n",
       "      <td>0.255046</td>\n",
       "      <td>0.590000</td>\n",
       "      <td>0.155471</td>\n",
       "      <td>644</td>\n",
       "      <td>2451</td>\n",
       "      <td>3095</td>\n",
       "    </tr>\n",
       "    <tr>\n",
       "      <th>728</th>\n",
       "      <td>729</td>\n",
       "      <td>2012-12-29</td>\n",
       "      <td>1</td>\n",
       "      <td>1</td>\n",
       "      <td>12</td>\n",
       "      <td>0</td>\n",
       "      <td>6</td>\n",
       "      <td>0</td>\n",
       "      <td>2</td>\n",
       "      <td>0.253333</td>\n",
       "      <td>0.242400</td>\n",
       "      <td>0.752917</td>\n",
       "      <td>0.124383</td>\n",
       "      <td>159</td>\n",
       "      <td>1182</td>\n",
       "      <td>1341</td>\n",
       "    </tr>\n",
       "    <tr>\n",
       "      <th>729</th>\n",
       "      <td>730</td>\n",
       "      <td>2012-12-30</td>\n",
       "      <td>1</td>\n",
       "      <td>1</td>\n",
       "      <td>12</td>\n",
       "      <td>0</td>\n",
       "      <td>0</td>\n",
       "      <td>0</td>\n",
       "      <td>1</td>\n",
       "      <td>0.255833</td>\n",
       "      <td>0.231700</td>\n",
       "      <td>0.483333</td>\n",
       "      <td>0.350754</td>\n",
       "      <td>364</td>\n",
       "      <td>1432</td>\n",
       "      <td>1796</td>\n",
       "    </tr>\n",
       "    <tr>\n",
       "      <th>730</th>\n",
       "      <td>731</td>\n",
       "      <td>2012-12-31</td>\n",
       "      <td>1</td>\n",
       "      <td>1</td>\n",
       "      <td>12</td>\n",
       "      <td>0</td>\n",
       "      <td>1</td>\n",
       "      <td>1</td>\n",
       "      <td>2</td>\n",
       "      <td>0.215833</td>\n",
       "      <td>0.223487</td>\n",
       "      <td>0.577500</td>\n",
       "      <td>0.154846</td>\n",
       "      <td>439</td>\n",
       "      <td>2290</td>\n",
       "      <td>2729</td>\n",
       "    </tr>\n",
       "  </tbody>\n",
       "</table>\n",
       "<p>731 rows × 16 columns</p>\n",
       "</div>"
      ],
      "text/plain": [
       "     instant      dteday  season  yr  mnth  holiday  weekday  workingday  \\\n",
       "0          1  2011-01-01       1   0     1        0        6           0   \n",
       "1          2  2011-01-02       1   0     1        0        0           0   \n",
       "2          3  2011-01-03       1   0     1        0        1           1   \n",
       "3          4  2011-01-04       1   0     1        0        2           1   \n",
       "4          5  2011-01-05       1   0     1        0        3           1   \n",
       "..       ...         ...     ...  ..   ...      ...      ...         ...   \n",
       "726      727  2012-12-27       1   1    12        0        4           1   \n",
       "727      728  2012-12-28       1   1    12        0        5           1   \n",
       "728      729  2012-12-29       1   1    12        0        6           0   \n",
       "729      730  2012-12-30       1   1    12        0        0           0   \n",
       "730      731  2012-12-31       1   1    12        0        1           1   \n",
       "\n",
       "     weathersit      temp     atemp       hum  windspeed  casual  registered  \\\n",
       "0             2  0.344167  0.363625  0.805833   0.160446     331         654   \n",
       "1             2  0.363478  0.353739  0.696087   0.248539     131         670   \n",
       "2             1  0.196364  0.189405  0.437273   0.248309     120        1229   \n",
       "3             1  0.200000  0.212122  0.590435   0.160296     108        1454   \n",
       "4             1  0.226957  0.229270  0.436957   0.186900      82        1518   \n",
       "..          ...       ...       ...       ...        ...     ...         ...   \n",
       "726           2  0.254167  0.226642  0.652917   0.350133     247        1867   \n",
       "727           2  0.253333  0.255046  0.590000   0.155471     644        2451   \n",
       "728           2  0.253333  0.242400  0.752917   0.124383     159        1182   \n",
       "729           1  0.255833  0.231700  0.483333   0.350754     364        1432   \n",
       "730           2  0.215833  0.223487  0.577500   0.154846     439        2290   \n",
       "\n",
       "      cnt  \n",
       "0     985  \n",
       "1     801  \n",
       "2    1349  \n",
       "3    1562  \n",
       "4    1600  \n",
       "..    ...  \n",
       "726  2114  \n",
       "727  3095  \n",
       "728  1341  \n",
       "729  1796  \n",
       "730  2729  \n",
       "\n",
       "[731 rows x 16 columns]"
      ]
     },
     "execution_count": 3,
     "metadata": {},
     "output_type": "execute_result"
    }
   ],
   "source": [
    "bike_sharing"
   ]
  },
  {
   "cell_type": "code",
   "execution_count": 4,
   "id": "92146df8",
   "metadata": {},
   "outputs": [
    {
     "data": {
      "text/plain": [
       "instant         int64\n",
       "dteday         object\n",
       "season          int64\n",
       "yr              int64\n",
       "mnth            int64\n",
       "holiday         int64\n",
       "weekday         int64\n",
       "workingday      int64\n",
       "weathersit      int64\n",
       "temp          float64\n",
       "atemp         float64\n",
       "hum           float64\n",
       "windspeed     float64\n",
       "casual          int64\n",
       "registered      int64\n",
       "cnt             int64\n",
       "dtype: object"
      ]
     },
     "execution_count": 4,
     "metadata": {},
     "output_type": "execute_result"
    }
   ],
   "source": [
    "bike_sharing.dtypes"
   ]
  },
  {
   "cell_type": "code",
   "execution_count": 5,
   "id": "6f97c1f4",
   "metadata": {},
   "outputs": [
    {
     "data": {
      "text/html": [
       "<div>\n",
       "<style scoped>\n",
       "    .dataframe tbody tr th:only-of-type {\n",
       "        vertical-align: middle;\n",
       "    }\n",
       "\n",
       "    .dataframe tbody tr th {\n",
       "        vertical-align: top;\n",
       "    }\n",
       "\n",
       "    .dataframe thead th {\n",
       "        text-align: right;\n",
       "    }\n",
       "</style>\n",
       "<table border=\"1\" class=\"dataframe\">\n",
       "  <thead>\n",
       "    <tr style=\"text-align: right;\">\n",
       "      <th></th>\n",
       "      <th>instant</th>\n",
       "      <th>dteday</th>\n",
       "      <th>season</th>\n",
       "      <th>yr</th>\n",
       "      <th>mnth</th>\n",
       "      <th>holiday</th>\n",
       "      <th>weekday</th>\n",
       "      <th>workingday</th>\n",
       "      <th>weathersit</th>\n",
       "      <th>temp</th>\n",
       "      <th>atemp</th>\n",
       "      <th>hum</th>\n",
       "      <th>windspeed</th>\n",
       "      <th>casual</th>\n",
       "      <th>registered</th>\n",
       "      <th>cnt</th>\n",
       "    </tr>\n",
       "  </thead>\n",
       "  <tbody>\n",
       "    <tr>\n",
       "      <th>0</th>\n",
       "      <td>1</td>\n",
       "      <td>2011-01-01</td>\n",
       "      <td>1</td>\n",
       "      <td>0</td>\n",
       "      <td>1</td>\n",
       "      <td>0</td>\n",
       "      <td>6</td>\n",
       "      <td>0</td>\n",
       "      <td>2</td>\n",
       "      <td>0.344167</td>\n",
       "      <td>0.363625</td>\n",
       "      <td>0.805833</td>\n",
       "      <td>0.160446</td>\n",
       "      <td>331</td>\n",
       "      <td>654</td>\n",
       "      <td>985</td>\n",
       "    </tr>\n",
       "    <tr>\n",
       "      <th>1</th>\n",
       "      <td>2</td>\n",
       "      <td>2011-01-02</td>\n",
       "      <td>1</td>\n",
       "      <td>0</td>\n",
       "      <td>1</td>\n",
       "      <td>0</td>\n",
       "      <td>0</td>\n",
       "      <td>0</td>\n",
       "      <td>2</td>\n",
       "      <td>0.363478</td>\n",
       "      <td>0.353739</td>\n",
       "      <td>0.696087</td>\n",
       "      <td>0.248539</td>\n",
       "      <td>131</td>\n",
       "      <td>670</td>\n",
       "      <td>801</td>\n",
       "    </tr>\n",
       "    <tr>\n",
       "      <th>2</th>\n",
       "      <td>3</td>\n",
       "      <td>2011-01-03</td>\n",
       "      <td>1</td>\n",
       "      <td>0</td>\n",
       "      <td>1</td>\n",
       "      <td>0</td>\n",
       "      <td>1</td>\n",
       "      <td>1</td>\n",
       "      <td>1</td>\n",
       "      <td>0.196364</td>\n",
       "      <td>0.189405</td>\n",
       "      <td>0.437273</td>\n",
       "      <td>0.248309</td>\n",
       "      <td>120</td>\n",
       "      <td>1229</td>\n",
       "      <td>1349</td>\n",
       "    </tr>\n",
       "    <tr>\n",
       "      <th>3</th>\n",
       "      <td>4</td>\n",
       "      <td>2011-01-04</td>\n",
       "      <td>1</td>\n",
       "      <td>0</td>\n",
       "      <td>1</td>\n",
       "      <td>0</td>\n",
       "      <td>2</td>\n",
       "      <td>1</td>\n",
       "      <td>1</td>\n",
       "      <td>0.200000</td>\n",
       "      <td>0.212122</td>\n",
       "      <td>0.590435</td>\n",
       "      <td>0.160296</td>\n",
       "      <td>108</td>\n",
       "      <td>1454</td>\n",
       "      <td>1562</td>\n",
       "    </tr>\n",
       "    <tr>\n",
       "      <th>4</th>\n",
       "      <td>5</td>\n",
       "      <td>2011-01-05</td>\n",
       "      <td>1</td>\n",
       "      <td>0</td>\n",
       "      <td>1</td>\n",
       "      <td>0</td>\n",
       "      <td>3</td>\n",
       "      <td>1</td>\n",
       "      <td>1</td>\n",
       "      <td>0.226957</td>\n",
       "      <td>0.229270</td>\n",
       "      <td>0.436957</td>\n",
       "      <td>0.186900</td>\n",
       "      <td>82</td>\n",
       "      <td>1518</td>\n",
       "      <td>1600</td>\n",
       "    </tr>\n",
       "  </tbody>\n",
       "</table>\n",
       "</div>"
      ],
      "text/plain": [
       "   instant      dteday  season  yr  mnth  holiday  weekday  workingday  \\\n",
       "0        1  2011-01-01       1   0     1        0        6           0   \n",
       "1        2  2011-01-02       1   0     1        0        0           0   \n",
       "2        3  2011-01-03       1   0     1        0        1           1   \n",
       "3        4  2011-01-04       1   0     1        0        2           1   \n",
       "4        5  2011-01-05       1   0     1        0        3           1   \n",
       "\n",
       "   weathersit      temp     atemp       hum  windspeed  casual  registered  \\\n",
       "0           2  0.344167  0.363625  0.805833   0.160446     331         654   \n",
       "1           2  0.363478  0.353739  0.696087   0.248539     131         670   \n",
       "2           1  0.196364  0.189405  0.437273   0.248309     120        1229   \n",
       "3           1  0.200000  0.212122  0.590435   0.160296     108        1454   \n",
       "4           1  0.226957  0.229270  0.436957   0.186900      82        1518   \n",
       "\n",
       "    cnt  \n",
       "0   985  \n",
       "1   801  \n",
       "2  1349  \n",
       "3  1562  \n",
       "4  1600  "
      ]
     },
     "execution_count": 5,
     "metadata": {},
     "output_type": "execute_result"
    }
   ],
   "source": [
    "bike_sharing.head(5)"
   ]
  },
  {
   "cell_type": "code",
   "execution_count": 6,
   "id": "dfeabb28",
   "metadata": {},
   "outputs": [],
   "source": [
    "#Rename the column\n",
    "bike_sharing.rename(columns={'instant':'rec_id','dteday':'date','yr':'year','mnth':'month','weathersit':'weather_condition','hum':'humidity','cnt':'total_count'},inplace=True)"
   ]
  },
  {
   "cell_type": "code",
   "execution_count": 7,
   "id": "387c013d",
   "metadata": {},
   "outputs": [
    {
     "data": {
      "text/html": [
       "<div>\n",
       "<style scoped>\n",
       "    .dataframe tbody tr th:only-of-type {\n",
       "        vertical-align: middle;\n",
       "    }\n",
       "\n",
       "    .dataframe tbody tr th {\n",
       "        vertical-align: top;\n",
       "    }\n",
       "\n",
       "    .dataframe thead th {\n",
       "        text-align: right;\n",
       "    }\n",
       "</style>\n",
       "<table border=\"1\" class=\"dataframe\">\n",
       "  <thead>\n",
       "    <tr style=\"text-align: right;\">\n",
       "      <th></th>\n",
       "      <th>rec_id</th>\n",
       "      <th>date</th>\n",
       "      <th>season</th>\n",
       "      <th>year</th>\n",
       "      <th>month</th>\n",
       "      <th>holiday</th>\n",
       "      <th>weekday</th>\n",
       "      <th>workingday</th>\n",
       "      <th>weather_condition</th>\n",
       "      <th>temp</th>\n",
       "      <th>atemp</th>\n",
       "      <th>humidity</th>\n",
       "      <th>windspeed</th>\n",
       "      <th>casual</th>\n",
       "      <th>registered</th>\n",
       "      <th>total_count</th>\n",
       "    </tr>\n",
       "  </thead>\n",
       "  <tbody>\n",
       "    <tr>\n",
       "      <th>0</th>\n",
       "      <td>1</td>\n",
       "      <td>2011-01-01</td>\n",
       "      <td>1</td>\n",
       "      <td>0</td>\n",
       "      <td>1</td>\n",
       "      <td>0</td>\n",
       "      <td>6</td>\n",
       "      <td>0</td>\n",
       "      <td>2</td>\n",
       "      <td>0.344167</td>\n",
       "      <td>0.363625</td>\n",
       "      <td>0.805833</td>\n",
       "      <td>0.160446</td>\n",
       "      <td>331</td>\n",
       "      <td>654</td>\n",
       "      <td>985</td>\n",
       "    </tr>\n",
       "    <tr>\n",
       "      <th>1</th>\n",
       "      <td>2</td>\n",
       "      <td>2011-01-02</td>\n",
       "      <td>1</td>\n",
       "      <td>0</td>\n",
       "      <td>1</td>\n",
       "      <td>0</td>\n",
       "      <td>0</td>\n",
       "      <td>0</td>\n",
       "      <td>2</td>\n",
       "      <td>0.363478</td>\n",
       "      <td>0.353739</td>\n",
       "      <td>0.696087</td>\n",
       "      <td>0.248539</td>\n",
       "      <td>131</td>\n",
       "      <td>670</td>\n",
       "      <td>801</td>\n",
       "    </tr>\n",
       "    <tr>\n",
       "      <th>2</th>\n",
       "      <td>3</td>\n",
       "      <td>2011-01-03</td>\n",
       "      <td>1</td>\n",
       "      <td>0</td>\n",
       "      <td>1</td>\n",
       "      <td>0</td>\n",
       "      <td>1</td>\n",
       "      <td>1</td>\n",
       "      <td>1</td>\n",
       "      <td>0.196364</td>\n",
       "      <td>0.189405</td>\n",
       "      <td>0.437273</td>\n",
       "      <td>0.248309</td>\n",
       "      <td>120</td>\n",
       "      <td>1229</td>\n",
       "      <td>1349</td>\n",
       "    </tr>\n",
       "    <tr>\n",
       "      <th>3</th>\n",
       "      <td>4</td>\n",
       "      <td>2011-01-04</td>\n",
       "      <td>1</td>\n",
       "      <td>0</td>\n",
       "      <td>1</td>\n",
       "      <td>0</td>\n",
       "      <td>2</td>\n",
       "      <td>1</td>\n",
       "      <td>1</td>\n",
       "      <td>0.200000</td>\n",
       "      <td>0.212122</td>\n",
       "      <td>0.590435</td>\n",
       "      <td>0.160296</td>\n",
       "      <td>108</td>\n",
       "      <td>1454</td>\n",
       "      <td>1562</td>\n",
       "    </tr>\n",
       "    <tr>\n",
       "      <th>4</th>\n",
       "      <td>5</td>\n",
       "      <td>2011-01-05</td>\n",
       "      <td>1</td>\n",
       "      <td>0</td>\n",
       "      <td>1</td>\n",
       "      <td>0</td>\n",
       "      <td>3</td>\n",
       "      <td>1</td>\n",
       "      <td>1</td>\n",
       "      <td>0.226957</td>\n",
       "      <td>0.229270</td>\n",
       "      <td>0.436957</td>\n",
       "      <td>0.186900</td>\n",
       "      <td>82</td>\n",
       "      <td>1518</td>\n",
       "      <td>1600</td>\n",
       "    </tr>\n",
       "  </tbody>\n",
       "</table>\n",
       "</div>"
      ],
      "text/plain": [
       "   rec_id        date  season  year  month  holiday  weekday  workingday  \\\n",
       "0       1  2011-01-01       1     0      1        0        6           0   \n",
       "1       2  2011-01-02       1     0      1        0        0           0   \n",
       "2       3  2011-01-03       1     0      1        0        1           1   \n",
       "3       4  2011-01-04       1     0      1        0        2           1   \n",
       "4       5  2011-01-05       1     0      1        0        3           1   \n",
       "\n",
       "   weather_condition      temp     atemp  humidity  windspeed  casual  \\\n",
       "0                  2  0.344167  0.363625  0.805833   0.160446     331   \n",
       "1                  2  0.363478  0.353739  0.696087   0.248539     131   \n",
       "2                  1  0.196364  0.189405  0.437273   0.248309     120   \n",
       "3                  1  0.200000  0.212122  0.590435   0.160296     108   \n",
       "4                  1  0.226957  0.229270  0.436957   0.186900      82   \n",
       "\n",
       "   registered  total_count  \n",
       "0         654          985  \n",
       "1         670          801  \n",
       "2        1229         1349  \n",
       "3        1454         1562  \n",
       "4        1518         1600  "
      ]
     },
     "execution_count": 7,
     "metadata": {},
     "output_type": "execute_result"
    }
   ],
   "source": [
    "bike_sharing.head(5)\n"
   ]
  },
  {
   "cell_type": "code",
   "execution_count": 8,
   "id": "9d20888f",
   "metadata": {},
   "outputs": [],
   "source": [
    "#Type casting the date and numerical attributes to category\n",
    "\n",
    "bike_sharing['date'] = pd.to_datetime(bike_sharing.date)\n",
    "bike_sharing['season'] = bike_sharing.season.astype('category')\n",
    "bike_sharing['year'] = bike_sharing.year.astype('category')\n",
    "bike_sharing['month'] = bike_sharing.month.astype('category')\n",
    "bike_sharing['holiday'] = bike_sharing.holiday.astype('category')\n",
    "bike_sharing['weekday'] = bike_sharing.weekday.astype('category')\n",
    "bike_sharing['workingday'] = bike_sharing.workingday.astype('category')\n",
    "bike_sharing['weather_condition'] = bike_sharing.weather_condition.astype('category')"
   ]
  },
  {
   "cell_type": "code",
   "execution_count": 9,
   "id": "25c6e8ce",
   "metadata": {},
   "outputs": [
    {
     "name": "stdout",
     "output_type": "stream",
     "text": [
      "<class 'pandas.core.frame.DataFrame'>\n",
      "RangeIndex: 731 entries, 0 to 730\n",
      "Data columns (total 16 columns):\n",
      " #   Column             Non-Null Count  Dtype         \n",
      "---  ------             --------------  -----         \n",
      " 0   rec_id             731 non-null    int64         \n",
      " 1   date               731 non-null    datetime64[ns]\n",
      " 2   season             731 non-null    category      \n",
      " 3   year               731 non-null    category      \n",
      " 4   month              731 non-null    category      \n",
      " 5   holiday            731 non-null    category      \n",
      " 6   weekday            731 non-null    category      \n",
      " 7   workingday         731 non-null    category      \n",
      " 8   weather_condition  731 non-null    category      \n",
      " 9   temp               731 non-null    float64       \n",
      " 10  atemp              731 non-null    float64       \n",
      " 11  humidity           731 non-null    float64       \n",
      " 12  windspeed          731 non-null    float64       \n",
      " 13  casual             731 non-null    int64         \n",
      " 14  registered         731 non-null    int64         \n",
      " 15  total_count        731 non-null    int64         \n",
      "dtypes: category(7), datetime64[ns](1), float64(4), int64(4)\n",
      "memory usage: 57.9 KB\n"
     ]
    }
   ],
   "source": [
    "bike_sharing.info()"
   ]
  },
  {
   "cell_type": "code",
   "execution_count": 10,
   "id": "21c112a6",
   "metadata": {},
   "outputs": [
    {
     "data": {
      "text/html": [
       "<div>\n",
       "<style scoped>\n",
       "    .dataframe tbody tr th:only-of-type {\n",
       "        vertical-align: middle;\n",
       "    }\n",
       "\n",
       "    .dataframe tbody tr th {\n",
       "        vertical-align: top;\n",
       "    }\n",
       "\n",
       "    .dataframe thead th {\n",
       "        text-align: right;\n",
       "    }\n",
       "</style>\n",
       "<table border=\"1\" class=\"dataframe\">\n",
       "  <thead>\n",
       "    <tr style=\"text-align: right;\">\n",
       "      <th></th>\n",
       "      <th>rec_id</th>\n",
       "      <th>temp</th>\n",
       "      <th>atemp</th>\n",
       "      <th>humidity</th>\n",
       "      <th>windspeed</th>\n",
       "      <th>casual</th>\n",
       "      <th>registered</th>\n",
       "      <th>total_count</th>\n",
       "    </tr>\n",
       "  </thead>\n",
       "  <tbody>\n",
       "    <tr>\n",
       "      <th>count</th>\n",
       "      <td>731.000000</td>\n",
       "      <td>731.000000</td>\n",
       "      <td>731.000000</td>\n",
       "      <td>731.000000</td>\n",
       "      <td>731.000000</td>\n",
       "      <td>731.000000</td>\n",
       "      <td>731.000000</td>\n",
       "      <td>731.000000</td>\n",
       "    </tr>\n",
       "    <tr>\n",
       "      <th>mean</th>\n",
       "      <td>366.000000</td>\n",
       "      <td>0.495385</td>\n",
       "      <td>0.474354</td>\n",
       "      <td>0.627894</td>\n",
       "      <td>0.190486</td>\n",
       "      <td>848.176471</td>\n",
       "      <td>3656.172367</td>\n",
       "      <td>4504.348837</td>\n",
       "    </tr>\n",
       "    <tr>\n",
       "      <th>std</th>\n",
       "      <td>211.165812</td>\n",
       "      <td>0.183051</td>\n",
       "      <td>0.162961</td>\n",
       "      <td>0.142429</td>\n",
       "      <td>0.077498</td>\n",
       "      <td>686.622488</td>\n",
       "      <td>1560.256377</td>\n",
       "      <td>1937.211452</td>\n",
       "    </tr>\n",
       "    <tr>\n",
       "      <th>min</th>\n",
       "      <td>1.000000</td>\n",
       "      <td>0.059130</td>\n",
       "      <td>0.079070</td>\n",
       "      <td>0.000000</td>\n",
       "      <td>0.022392</td>\n",
       "      <td>2.000000</td>\n",
       "      <td>20.000000</td>\n",
       "      <td>22.000000</td>\n",
       "    </tr>\n",
       "    <tr>\n",
       "      <th>25%</th>\n",
       "      <td>183.500000</td>\n",
       "      <td>0.337083</td>\n",
       "      <td>0.337842</td>\n",
       "      <td>0.520000</td>\n",
       "      <td>0.134950</td>\n",
       "      <td>315.500000</td>\n",
       "      <td>2497.000000</td>\n",
       "      <td>3152.000000</td>\n",
       "    </tr>\n",
       "    <tr>\n",
       "      <th>50%</th>\n",
       "      <td>366.000000</td>\n",
       "      <td>0.498333</td>\n",
       "      <td>0.486733</td>\n",
       "      <td>0.626667</td>\n",
       "      <td>0.180975</td>\n",
       "      <td>713.000000</td>\n",
       "      <td>3662.000000</td>\n",
       "      <td>4548.000000</td>\n",
       "    </tr>\n",
       "    <tr>\n",
       "      <th>75%</th>\n",
       "      <td>548.500000</td>\n",
       "      <td>0.655417</td>\n",
       "      <td>0.608602</td>\n",
       "      <td>0.730209</td>\n",
       "      <td>0.233214</td>\n",
       "      <td>1096.000000</td>\n",
       "      <td>4776.500000</td>\n",
       "      <td>5956.000000</td>\n",
       "    </tr>\n",
       "    <tr>\n",
       "      <th>max</th>\n",
       "      <td>731.000000</td>\n",
       "      <td>0.861667</td>\n",
       "      <td>0.840896</td>\n",
       "      <td>0.972500</td>\n",
       "      <td>0.507463</td>\n",
       "      <td>3410.000000</td>\n",
       "      <td>6946.000000</td>\n",
       "      <td>8714.000000</td>\n",
       "    </tr>\n",
       "  </tbody>\n",
       "</table>\n",
       "</div>"
      ],
      "text/plain": [
       "           rec_id        temp       atemp    humidity   windspeed  \\\n",
       "count  731.000000  731.000000  731.000000  731.000000  731.000000   \n",
       "mean   366.000000    0.495385    0.474354    0.627894    0.190486   \n",
       "std    211.165812    0.183051    0.162961    0.142429    0.077498   \n",
       "min      1.000000    0.059130    0.079070    0.000000    0.022392   \n",
       "25%    183.500000    0.337083    0.337842    0.520000    0.134950   \n",
       "50%    366.000000    0.498333    0.486733    0.626667    0.180975   \n",
       "75%    548.500000    0.655417    0.608602    0.730209    0.233214   \n",
       "max    731.000000    0.861667    0.840896    0.972500    0.507463   \n",
       "\n",
       "            casual   registered  total_count  \n",
       "count   731.000000   731.000000   731.000000  \n",
       "mean    848.176471  3656.172367  4504.348837  \n",
       "std     686.622488  1560.256377  1937.211452  \n",
       "min       2.000000    20.000000    22.000000  \n",
       "25%     315.500000  2497.000000  3152.000000  \n",
       "50%     713.000000  3662.000000  4548.000000  \n",
       "75%    1096.000000  4776.500000  5956.000000  \n",
       "max    3410.000000  6946.000000  8714.000000  "
      ]
     },
     "execution_count": 10,
     "metadata": {},
     "output_type": "execute_result"
    }
   ],
   "source": [
    "bike_sharing.describe()"
   ]
  },
  {
   "cell_type": "code",
   "execution_count": 11,
   "id": "01839b65",
   "metadata": {},
   "outputs": [
    {
     "data": {
      "text/plain": [
       "rec_id               0\n",
       "date                 0\n",
       "season               0\n",
       "year                 0\n",
       "month                0\n",
       "holiday              0\n",
       "weekday              0\n",
       "workingday           0\n",
       "weather_condition    0\n",
       "temp                 0\n",
       "atemp                0\n",
       "humidity             0\n",
       "windspeed            0\n",
       "casual               0\n",
       "registered           0\n",
       "total_count          0\n",
       "dtype: int64"
      ]
     },
     "execution_count": 11,
     "metadata": {},
     "output_type": "execute_result"
    }
   ],
   "source": [
    "#missing values in dataset\n",
    "\n",
    "bike_sharing.isnull().sum()\n"
   ]
  },
  {
   "cell_type": "markdown",
   "id": "5f30226a",
   "metadata": {},
   "source": [
    "**Attribute Distibution and count**"
   ]
  },
  {
   "cell_type": "markdown",
   "id": "75a77ffb",
   "metadata": {},
   "source": [
    "**Monthly Distibution of counts**"
   ]
  },
  {
   "cell_type": "code",
   "execution_count": 12,
   "id": "1c1eb393",
   "metadata": {},
   "outputs": [
    {
     "data": {
      "image/png": "[encoded data removed]",
      "text/plain": [
       "<Figure size 1080x576 with 1 Axes>"
      ]
     },
     "metadata": {
      "needs_background": "light"
     },
     "output_type": "display_data"
    },
    {
     "data": {
      "image/png": "[encoded data removed]",
      "text/plain": [
       "<Figure size 1080x576 with 1 Axes>"
      ]
     },
     "metadata": {},
     "output_type": "display_data"
    }
   ],
   "source": [
    "fig,ax = plt.subplots(figsize=(15,8))\n",
    "sns.set_style('white')\n",
    "#Bar plot seasonwise monthly distribution of counts\n",
    "sns.barplot(x ='month',y ='total_count', data= bike_sharing[['month','total_count','season']],hue = 'season',ax=ax)\n",
    "ax.set_title('Seasonwise monthly distribution of counts')\n",
    "plt.show()\n",
    "#Bar plot for weekday wise monthly distribution of counts\n",
    "fig,ax1 = plt.subplots(figsize = (15,8))\n",
    "sns.barplot(x='month',y='total_count',data = bike_sharing[['month','total_count','weekday']],hue='weekday',ax=ax1)\n",
    "ax1.set_title('Weekday Wise Distribution of Count')\n",
    "plt.show()\n"
   ]
  },
  {
   "cell_type": "markdown",
   "id": "163c3475",
   "metadata": {},
   "source": [
    "From the above plots, we can observed that increasing the bike rental count in springe and summer season and then decreasing the bike rental count in fall and winter season. Here,\n",
    "\n",
    "season 1-> spring \n",
    "season 2 -> summer \n",
    "season 3 -> fall \n",
    "season 4 -> winter"
   ]
  },
  {
   "cell_type": "markdown",
   "id": "21ed666f",
   "metadata": {},
   "source": [
    "**Yearly wise distribution of Counts**"
   ]
  },
  {
   "cell_type": "code",
   "execution_count": 13,
   "id": "59751c7b",
   "metadata": {},
   "outputs": [
    {
     "data": {
      "image/png": "[encoded data removed]",
      "text/plain": [
       "<Figure size 1080x576 with 1 Axes>"
      ]
     },
     "metadata": {},
     "output_type": "display_data"
    }
   ],
   "source": [
    "fig,ax = plt.subplots(figsize=(15,8))\n",
    "#Violin plot for yealy distribution count\n",
    "sns.violinplot(x='year',y='total_count',data = bike_sharing[['year','total_count']])\n",
    "ax.set_title('Yearly distribution of counts')\n",
    "plt.show()"
   ]
  },
  {
   "cell_type": "markdown",
   "id": "648eecdb",
   "metadata": {},
   "source": [
    "From the violin plot, we can observed that the bike rental count distribution is highest in year 2012 then in year 2011. \n",
    "\n",
    "Here,  \n",
    "year 0-> 2011, year 1-> 2012"
   ]
  },
  {
   "cell_type": "markdown",
   "id": "da5394c7",
   "metadata": {},
   "source": [
    "**Holiday wise Distribution of counts**"
   ]
  },
  {
   "cell_type": "code",
   "execution_count": 14,
   "id": "b307f41d",
   "metadata": {},
   "outputs": [
    {
     "data": {
      "image/png": "[encoded data removed]",
      "text/plain": [
       "<Figure size 1080x576 with 1 Axes>"
      ]
     },
     "metadata": {},
     "output_type": "display_data"
    }
   ],
   "source": [
    "fig,ax = plt.subplots(figsize=(15,8))\n",
    "#Barplot for Holiday Distribution of counts\n",
    "sns.barplot(data=bike_sharing,x='holiday',y='total_count',hue = 'season')\n",
    "ax.set_title('Holiday Wise Distribution of Counts')\n",
    "plt.show()"
   ]
  },
  {
   "cell_type": "markdown",
   "id": "b6ed7539",
   "metadata": {},
   "source": [
    "From the above bar plot, we can observed that during no holiday the bike rental counts is highest compared to during holiday for different seasons.\n",
    "\n",
    "Here, 0->No holiday, 1-> holiday"
   ]
  },
  {
   "cell_type": "markdown",
   "id": "2cedd008",
   "metadata": {},
   "source": [
    "**Weather_Condition Wise Distribution of Counts**"
   ]
  },
  {
   "cell_type": "code",
   "execution_count": 15,
   "id": "30ada0fa",
   "metadata": {},
   "outputs": [
    {
     "data": {
      "image/png": "[encoded data removed]",
      "text/plain": [
       "<Figure size 1080x576 with 1 Axes>"
      ]
     },
     "metadata": {},
     "output_type": "display_data"
    }
   ],
   "source": [
    "fig,ax1 = plt.subplots(figsize=(15,8))\n",
    "#Bar plot for Weather_condition distribution of counts\n",
    "sns.barplot(x='weather_condition',y='total_count',data=bike_sharing[['month','total_count','weather_condition']],ax=ax1)\n",
    "ax1.set_title('Weather_Condition Wise Monthly Distribution of counts')\n",
    "plt.show()"
   ]
  },
  {
   "cell_type": "markdown",
   "id": "9397f6e9",
   "metadata": {},
   "source": [
    "From the above bar plot, we can observed that during clear,partly cloudy weather the bike rental count is highest and the second highest is during mist cloudy weather and followed by third highest during light snow and light rain weather."
   ]
  },
  {
   "cell_type": "markdown",
   "id": "a06b4273",
   "metadata": {},
   "source": [
    "**Outlier Analysis**"
   ]
  },
  {
   "cell_type": "markdown",
   "id": "0b2dbc76",
   "metadata": {},
   "source": [
    "**Total_Count_Outlier**"
   ]
  },
  {
   "cell_type": "code",
   "execution_count": 16,
   "id": "4ecdb210",
   "metadata": {},
   "outputs": [
    {
     "data": {
      "image/png": "[encoded data removed]",
      "text/plain": [
       "<Figure size 1080x576 with 1 Axes>"
      ]
     },
     "metadata": {},
     "output_type": "display_data"
    }
   ],
   "source": [
    "fig,ax=plt.subplots(figsize=(15,8))\n",
    "#Boxplot for total_count outliers\n",
    "sns.boxplot(data=bike_sharing[['total_count']])\n",
    "ax.set_title('total_count outliers')\n",
    "plt.show()"
   ]
  },
  {
   "cell_type": "markdown",
   "id": "4f78fbcb",
   "metadata": {},
   "source": [
    "From the box plot, we can observed that no outliers are present in total_count variable."
   ]
  },
  {
   "cell_type": "code",
   "execution_count": 17,
   "id": "8e722b5e",
   "metadata": {},
   "outputs": [
    {
     "data": {
      "image/png": "[encoded data removed]",
      "text/plain": [
       "<Figure size 1080x576 with 1 Axes>"
      ]
     },
     "metadata": {},
     "output_type": "display_data"
    }
   ],
   "source": [
    "fig,ax = plt.subplots(figsize=(15,8))\n",
    "#box plot for Temp_Windspeed_humidity_outlier\n",
    "sns.boxplot(data=bike_sharing[['temp','windspeed','humidity']])\n",
    "ax.set_title('Temp_Windspeed_Humidity_Outlier')\n",
    "plt.show()"
   ]
  },
  {
   "cell_type": "markdown",
   "id": "8da8f039",
   "metadata": {},
   "source": [
    "From the box plot, we can observed that no outliers are present in normalized temp but few outliers are present in normalized windspeed and humidity variable."
   ]
  },
  {
   "cell_type": "code",
   "execution_count": 18,
   "id": "2036923a",
   "metadata": {},
   "outputs": [
    {
     "data": {
      "text/plain": [
       "rec_id               0\n",
       "date                 0\n",
       "season               0\n",
       "year                 0\n",
       "month                0\n",
       "holiday              0\n",
       "weekday              0\n",
       "workingday           0\n",
       "weather_condition    0\n",
       "temp                 0\n",
       "atemp                0\n",
       "humidity             0\n",
       "windspeed            0\n",
       "casual               0\n",
       "registered           0\n",
       "total_count          0\n",
       "dtype: int64"
      ]
     },
     "execution_count": 18,
     "metadata": {},
     "output_type": "execute_result"
    }
   ],
   "source": [
    "bike_sharing.isnull().sum()"
   ]
  },
  {
   "cell_type": "markdown",
   "id": "fb76411f",
   "metadata": {},
   "source": [
    "**Normal Probability Plot**"
   ]
  },
  {
   "cell_type": "markdown",
   "id": "b803884a",
   "metadata": {},
   "source": [
    "Normal Probability plot is a graphical technique to identify substantive departures from normality and also it tells about goodness of fit"
   ]
  },
  {
   "cell_type": "code",
   "execution_count": 19,
   "id": "b0341212",
   "metadata": {},
   "outputs": [
    {
     "data": {
      "image/png": "[encoded data removed]",
      "text/plain": [
       "<Figure size 1080x576 with 1 Axes>"
      ]
     },
     "metadata": {},
     "output_type": "display_data"
    }
   ],
   "source": [
    "import scipy\n",
    "from scipy import stats\n",
    "#Normal plot\n",
    "fig=plt.figure(figsize=(15,8))\n",
    "stats.probplot(bike_sharing.total_count.tolist(),dist='norm',plot=plt)\n",
    "plt.show()"
   ]
  },
  {
   "cell_type": "markdown",
   "id": "f9a7b6a0",
   "metadata": {},
   "source": [
    "**Correlation Matrix**"
   ]
  },
  {
   "cell_type": "code",
   "execution_count": 20,
   "id": "59653572",
   "metadata": {},
   "outputs": [
    {
     "data": {
      "image/png": "[encoded data removed]",
      "text/plain": [
       "<Figure size 1080x504 with 2 Axes>"
      ]
     },
     "metadata": {},
     "output_type": "display_data"
    }
   ],
   "source": [
    "#create the correlation matrix\n",
    "corrMt=bike_sharing[['temp','atemp','humidity','windspeed','casual','registered','total_count']].corr()\n",
    "mask=np.array(corrMt)\n",
    "mask[np.tril_indices_from(mask)]=False\n",
    "#heat map for correaltion matrix for attributes\n",
    "\n",
    "fig,ax = plt.subplots(figsize=(15,7))\n",
    "sns.heatmap(corrMt,mask=mask,vmax=0.8,square=True,annot=True,ax=ax)\n",
    "ax.set_title('Correlation matrix of attributes')\n",
    "plt.show()"
   ]
  },
  {
   "cell_type": "markdown",
   "id": "2894f848",
   "metadata": {},
   "source": [
    "From correlation plot, we can observed that some features are positively correlated or some are negatively correlated to each other. The temp and atemp are highly positively correlated to each other, it means that both are carrying same information.The total_count,casual and registered are highly positively correlated to each other. So, we are going to ignore atemp,casual and registered variable for further analysis."
   ]
  },
  {
   "cell_type": "markdown",
   "id": "5146d268",
   "metadata": {},
   "source": [
    "**Modeling the DataSet**"
   ]
  },
  {
   "cell_type": "code",
   "execution_count": 21,
   "id": "3f61c8d9",
   "metadata": {},
   "outputs": [
    {
     "data": {
      "text/html": [
       "<div>\n",
       "<style scoped>\n",
       "    .dataframe tbody tr th:only-of-type {\n",
       "        vertical-align: middle;\n",
       "    }\n",
       "\n",
       "    .dataframe tbody tr th {\n",
       "        vertical-align: top;\n",
       "    }\n",
       "\n",
       "    .dataframe thead th {\n",
       "        text-align: right;\n",
       "    }\n",
       "</style>\n",
       "<table border=\"1\" class=\"dataframe\">\n",
       "  <thead>\n",
       "    <tr style=\"text-align: right;\">\n",
       "      <th></th>\n",
       "      <th>rec_id</th>\n",
       "      <th>month</th>\n",
       "      <th>weekday</th>\n",
       "      <th>temp</th>\n",
       "      <th>atemp</th>\n",
       "      <th>humidity</th>\n",
       "      <th>windspeed</th>\n",
       "      <th>casual</th>\n",
       "      <th>registered</th>\n",
       "      <th>total_count</th>\n",
       "      <th>...</th>\n",
       "      <th>season_4</th>\n",
       "      <th>workingday_0</th>\n",
       "      <th>workingday_1</th>\n",
       "      <th>weather_condition_1</th>\n",
       "      <th>weather_condition_2</th>\n",
       "      <th>weather_condition_3</th>\n",
       "      <th>year_0</th>\n",
       "      <th>year_1</th>\n",
       "      <th>holiday_0</th>\n",
       "      <th>holiday_1</th>\n",
       "    </tr>\n",
       "  </thead>\n",
       "  <tbody>\n",
       "    <tr>\n",
       "      <th>0</th>\n",
       "      <td>1</td>\n",
       "      <td>1</td>\n",
       "      <td>6</td>\n",
       "      <td>0.344167</td>\n",
       "      <td>0.363625</td>\n",
       "      <td>0.805833</td>\n",
       "      <td>0.160446</td>\n",
       "      <td>331</td>\n",
       "      <td>654</td>\n",
       "      <td>985</td>\n",
       "      <td>...</td>\n",
       "      <td>0</td>\n",
       "      <td>1</td>\n",
       "      <td>0</td>\n",
       "      <td>0</td>\n",
       "      <td>1</td>\n",
       "      <td>0</td>\n",
       "      <td>1</td>\n",
       "      <td>0</td>\n",
       "      <td>1</td>\n",
       "      <td>0</td>\n",
       "    </tr>\n",
       "    <tr>\n",
       "      <th>1</th>\n",
       "      <td>2</td>\n",
       "      <td>1</td>\n",
       "      <td>0</td>\n",
       "      <td>0.363478</td>\n",
       "      <td>0.353739</td>\n",
       "      <td>0.696087</td>\n",
       "      <td>0.248539</td>\n",
       "      <td>131</td>\n",
       "      <td>670</td>\n",
       "      <td>801</td>\n",
       "      <td>...</td>\n",
       "      <td>0</td>\n",
       "      <td>1</td>\n",
       "      <td>0</td>\n",
       "      <td>0</td>\n",
       "      <td>1</td>\n",
       "      <td>0</td>\n",
       "      <td>1</td>\n",
       "      <td>0</td>\n",
       "      <td>1</td>\n",
       "      <td>0</td>\n",
       "    </tr>\n",
       "    <tr>\n",
       "      <th>2</th>\n",
       "      <td>3</td>\n",
       "      <td>1</td>\n",
       "      <td>1</td>\n",
       "      <td>0.196364</td>\n",
       "      <td>0.189405</td>\n",
       "      <td>0.437273</td>\n",
       "      <td>0.248309</td>\n",
       "      <td>120</td>\n",
       "      <td>1229</td>\n",
       "      <td>1349</td>\n",
       "      <td>...</td>\n",
       "      <td>0</td>\n",
       "      <td>0</td>\n",
       "      <td>1</td>\n",
       "      <td>1</td>\n",
       "      <td>0</td>\n",
       "      <td>0</td>\n",
       "      <td>1</td>\n",
       "      <td>0</td>\n",
       "      <td>1</td>\n",
       "      <td>0</td>\n",
       "    </tr>\n",
       "    <tr>\n",
       "      <th>3</th>\n",
       "      <td>4</td>\n",
       "      <td>1</td>\n",
       "      <td>2</td>\n",
       "      <td>0.200000</td>\n",
       "      <td>0.212122</td>\n",
       "      <td>0.590435</td>\n",
       "      <td>0.160296</td>\n",
       "      <td>108</td>\n",
       "      <td>1454</td>\n",
       "      <td>1562</td>\n",
       "      <td>...</td>\n",
       "      <td>0</td>\n",
       "      <td>0</td>\n",
       "      <td>1</td>\n",
       "      <td>1</td>\n",
       "      <td>0</td>\n",
       "      <td>0</td>\n",
       "      <td>1</td>\n",
       "      <td>0</td>\n",
       "      <td>1</td>\n",
       "      <td>0</td>\n",
       "    </tr>\n",
       "    <tr>\n",
       "      <th>4</th>\n",
       "      <td>5</td>\n",
       "      <td>1</td>\n",
       "      <td>3</td>\n",
       "      <td>0.226957</td>\n",
       "      <td>0.229270</td>\n",
       "      <td>0.436957</td>\n",
       "      <td>0.186900</td>\n",
       "      <td>82</td>\n",
       "      <td>1518</td>\n",
       "      <td>1600</td>\n",
       "      <td>...</td>\n",
       "      <td>0</td>\n",
       "      <td>0</td>\n",
       "      <td>1</td>\n",
       "      <td>1</td>\n",
       "      <td>0</td>\n",
       "      <td>0</td>\n",
       "      <td>1</td>\n",
       "      <td>0</td>\n",
       "      <td>1</td>\n",
       "      <td>0</td>\n",
       "    </tr>\n",
       "  </tbody>\n",
       "</table>\n",
       "<p>5 rows × 23 columns</p>\n",
       "</div>"
      ],
      "text/plain": [
       "   rec_id month weekday      temp     atemp  humidity  windspeed  casual  \\\n",
       "0       1     1       6  0.344167  0.363625  0.805833   0.160446     331   \n",
       "1       2     1       0  0.363478  0.353739  0.696087   0.248539     131   \n",
       "2       3     1       1  0.196364  0.189405  0.437273   0.248309     120   \n",
       "3       4     1       2  0.200000  0.212122  0.590435   0.160296     108   \n",
       "4       5     1       3  0.226957  0.229270  0.436957   0.186900      82   \n",
       "\n",
       "   registered  total_count  ...  season_4  workingday_0  workingday_1  \\\n",
       "0         654          985  ...         0             1             0   \n",
       "1         670          801  ...         0             1             0   \n",
       "2        1229         1349  ...         0             0             1   \n",
       "3        1454         1562  ...         0             0             1   \n",
       "4        1518         1600  ...         0             0             1   \n",
       "\n",
       "   weather_condition_1  weather_condition_2  weather_condition_3  year_0  \\\n",
       "0                    0                    1                    0       1   \n",
       "1                    0                    1                    0       1   \n",
       "2                    1                    0                    0       1   \n",
       "3                    1                    0                    0       1   \n",
       "4                    1                    0                    0       1   \n",
       "\n",
       "   year_1  holiday_0  holiday_1  \n",
       "0       0          1          0  \n",
       "1       0          1          0  \n",
       "2       0          1          0  \n",
       "3       0          1          0  \n",
       "4       0          1          0  \n",
       "\n",
       "[5 rows x 23 columns]"
      ]
     },
     "execution_count": 21,
     "metadata": {},
     "output_type": "execute_result"
    }
   ],
   "source": [
    "cat = ['season','workingday','weather_condition','year','holiday']\n",
    "bike_sharing_conv = pd.get_dummies(bike_sharing,columns=cat)\n",
    "\n",
    "bike_sharing_conv.drop('date',axis=1,inplace=True)\n",
    "bike_sharing_conv.head()"
   ]
  },
  {
   "cell_type": "code",
   "execution_count": 22,
   "id": "ce62651f",
   "metadata": {},
   "outputs": [
    {
     "data": {
      "text/html": [
       "<div>\n",
       "<style scoped>\n",
       "    .dataframe tbody tr th:only-of-type {\n",
       "        vertical-align: middle;\n",
       "    }\n",
       "\n",
       "    .dataframe tbody tr th {\n",
       "        vertical-align: top;\n",
       "    }\n",
       "\n",
       "    .dataframe thead th {\n",
       "        text-align: right;\n",
       "    }\n",
       "</style>\n",
       "<table border=\"1\" class=\"dataframe\">\n",
       "  <thead>\n",
       "    <tr style=\"text-align: right;\">\n",
       "      <th></th>\n",
       "      <th>rec_id</th>\n",
       "      <th>month</th>\n",
       "      <th>weekday</th>\n",
       "      <th>temp</th>\n",
       "      <th>atemp</th>\n",
       "      <th>humidity</th>\n",
       "      <th>windspeed</th>\n",
       "      <th>casual</th>\n",
       "      <th>registered</th>\n",
       "      <th>total_count</th>\n",
       "      <th>...</th>\n",
       "      <th>season_4</th>\n",
       "      <th>workingday_0</th>\n",
       "      <th>workingday_1</th>\n",
       "      <th>weather_condition_1</th>\n",
       "      <th>weather_condition_2</th>\n",
       "      <th>weather_condition_3</th>\n",
       "      <th>year_0</th>\n",
       "      <th>year_1</th>\n",
       "      <th>holiday_0</th>\n",
       "      <th>holiday_1</th>\n",
       "    </tr>\n",
       "  </thead>\n",
       "  <tbody>\n",
       "    <tr>\n",
       "      <th>0</th>\n",
       "      <td>1</td>\n",
       "      <td>1</td>\n",
       "      <td>6</td>\n",
       "      <td>0.344167</td>\n",
       "      <td>0.363625</td>\n",
       "      <td>0.805833</td>\n",
       "      <td>0.160446</td>\n",
       "      <td>331</td>\n",
       "      <td>654</td>\n",
       "      <td>985</td>\n",
       "      <td>...</td>\n",
       "      <td>0</td>\n",
       "      <td>1</td>\n",
       "      <td>0</td>\n",
       "      <td>0</td>\n",
       "      <td>1</td>\n",
       "      <td>0</td>\n",
       "      <td>1</td>\n",
       "      <td>0</td>\n",
       "      <td>1</td>\n",
       "      <td>0</td>\n",
       "    </tr>\n",
       "    <tr>\n",
       "      <th>1</th>\n",
       "      <td>2</td>\n",
       "      <td>1</td>\n",
       "      <td>0</td>\n",
       "      <td>0.363478</td>\n",
       "      <td>0.353739</td>\n",
       "      <td>0.696087</td>\n",
       "      <td>0.248539</td>\n",
       "      <td>131</td>\n",
       "      <td>670</td>\n",
       "      <td>801</td>\n",
       "      <td>...</td>\n",
       "      <td>0</td>\n",
       "      <td>1</td>\n",
       "      <td>0</td>\n",
       "      <td>0</td>\n",
       "      <td>1</td>\n",
       "      <td>0</td>\n",
       "      <td>1</td>\n",
       "      <td>0</td>\n",
       "      <td>1</td>\n",
       "      <td>0</td>\n",
       "    </tr>\n",
       "    <tr>\n",
       "      <th>2</th>\n",
       "      <td>3</td>\n",
       "      <td>1</td>\n",
       "      <td>1</td>\n",
       "      <td>0.196364</td>\n",
       "      <td>0.189405</td>\n",
       "      <td>0.437273</td>\n",
       "      <td>0.248309</td>\n",
       "      <td>120</td>\n",
       "      <td>1229</td>\n",
       "      <td>1349</td>\n",
       "      <td>...</td>\n",
       "      <td>0</td>\n",
       "      <td>0</td>\n",
       "      <td>1</td>\n",
       "      <td>1</td>\n",
       "      <td>0</td>\n",
       "      <td>0</td>\n",
       "      <td>1</td>\n",
       "      <td>0</td>\n",
       "      <td>1</td>\n",
       "      <td>0</td>\n",
       "    </tr>\n",
       "    <tr>\n",
       "      <th>3</th>\n",
       "      <td>4</td>\n",
       "      <td>1</td>\n",
       "      <td>2</td>\n",
       "      <td>0.200000</td>\n",
       "      <td>0.212122</td>\n",
       "      <td>0.590435</td>\n",
       "      <td>0.160296</td>\n",
       "      <td>108</td>\n",
       "      <td>1454</td>\n",
       "      <td>1562</td>\n",
       "      <td>...</td>\n",
       "      <td>0</td>\n",
       "      <td>0</td>\n",
       "      <td>1</td>\n",
       "      <td>1</td>\n",
       "      <td>0</td>\n",
       "      <td>0</td>\n",
       "      <td>1</td>\n",
       "      <td>0</td>\n",
       "      <td>1</td>\n",
       "      <td>0</td>\n",
       "    </tr>\n",
       "    <tr>\n",
       "      <th>4</th>\n",
       "      <td>5</td>\n",
       "      <td>1</td>\n",
       "      <td>3</td>\n",
       "      <td>0.226957</td>\n",
       "      <td>0.229270</td>\n",
       "      <td>0.436957</td>\n",
       "      <td>0.186900</td>\n",
       "      <td>82</td>\n",
       "      <td>1518</td>\n",
       "      <td>1600</td>\n",
       "      <td>...</td>\n",
       "      <td>0</td>\n",
       "      <td>0</td>\n",
       "      <td>1</td>\n",
       "      <td>1</td>\n",
       "      <td>0</td>\n",
       "      <td>0</td>\n",
       "      <td>1</td>\n",
       "      <td>0</td>\n",
       "      <td>1</td>\n",
       "      <td>0</td>\n",
       "    </tr>\n",
       "  </tbody>\n",
       "</table>\n",
       "<p>5 rows × 23 columns</p>\n",
       "</div>"
      ],
      "text/plain": [
       "   rec_id month weekday      temp     atemp  humidity  windspeed  casual  \\\n",
       "0       1     1       6  0.344167  0.363625  0.805833   0.160446     331   \n",
       "1       2     1       0  0.363478  0.353739  0.696087   0.248539     131   \n",
       "2       3     1       1  0.196364  0.189405  0.437273   0.248309     120   \n",
       "3       4     1       2  0.200000  0.212122  0.590435   0.160296     108   \n",
       "4       5     1       3  0.226957  0.229270  0.436957   0.186900      82   \n",
       "\n",
       "   registered  total_count  ...  season_4  workingday_0  workingday_1  \\\n",
       "0         654          985  ...         0             1             0   \n",
       "1         670          801  ...         0             1             0   \n",
       "2        1229         1349  ...         0             0             1   \n",
       "3        1454         1562  ...         0             0             1   \n",
       "4        1518         1600  ...         0             0             1   \n",
       "\n",
       "   weather_condition_1  weather_condition_2  weather_condition_3  year_0  \\\n",
       "0                    0                    1                    0       1   \n",
       "1                    0                    1                    0       1   \n",
       "2                    1                    0                    0       1   \n",
       "3                    1                    0                    0       1   \n",
       "4                    1                    0                    0       1   \n",
       "\n",
       "   year_1  holiday_0  holiday_1  \n",
       "0       0          1          0  \n",
       "1       0          1          0  \n",
       "2       0          1          0  \n",
       "3       0          1          0  \n",
       "4       0          1          0  \n",
       "\n",
       "[5 rows x 23 columns]"
      ]
     },
     "execution_count": 22,
     "metadata": {},
     "output_type": "execute_result"
    }
   ],
   "source": [
    "bike_sharing_conv.head()"
   ]
  },
  {
   "cell_type": "code",
   "execution_count": 23,
   "id": "978b187e",
   "metadata": {},
   "outputs": [],
   "source": [
    "from sklearn.model_selection import train_test_split, cross_val_score, cross_val_predict\n",
    "from sklearn.ensemble import RandomForestRegressor\n",
    "np.random.seed(88)"
   ]
  },
  {
   "cell_type": "code",
   "execution_count": 24,
   "id": "d4595c74",
   "metadata": {},
   "outputs": [],
   "source": [
    "x = bike_sharing_conv.drop(\"total_count\",axis=1)\n",
    "y = bike_sharing_conv[\"total_count\"]"
   ]
  },
  {
   "cell_type": "code",
   "execution_count": 25,
   "id": "76e6bbcb",
   "metadata": {},
   "outputs": [
    {
     "name": "stdout",
     "output_type": "stream",
     "text": [
      "<class 'pandas.core.frame.DataFrame'>\n",
      "RangeIndex: 731 entries, 0 to 730\n",
      "Data columns (total 23 columns):\n",
      " #   Column               Non-Null Count  Dtype   \n",
      "---  ------               --------------  -----   \n",
      " 0   rec_id               731 non-null    int64   \n",
      " 1   month                731 non-null    category\n",
      " 2   weekday              731 non-null    category\n",
      " 3   temp                 731 non-null    float64 \n",
      " 4   atemp                731 non-null    float64 \n",
      " 5   humidity             731 non-null    float64 \n",
      " 6   windspeed            731 non-null    float64 \n",
      " 7   casual               731 non-null    int64   \n",
      " 8   registered           731 non-null    int64   \n",
      " 9   total_count          731 non-null    int64   \n",
      " 10  season_1             731 non-null    uint8   \n",
      " 11  season_2             731 non-null    uint8   \n",
      " 12  season_3             731 non-null    uint8   \n",
      " 13  season_4             731 non-null    uint8   \n",
      " 14  workingday_0         731 non-null    uint8   \n",
      " 15  workingday_1         731 non-null    uint8   \n",
      " 16  weather_condition_1  731 non-null    uint8   \n",
      " 17  weather_condition_2  731 non-null    uint8   \n",
      " 18  weather_condition_3  731 non-null    uint8   \n",
      " 19  year_0               731 non-null    uint8   \n",
      " 20  year_1               731 non-null    uint8   \n",
      " 21  holiday_0            731 non-null    uint8   \n",
      " 22  holiday_1            731 non-null    uint8   \n",
      "dtypes: category(2), float64(4), int64(4), uint8(13)\n",
      "memory usage: 57.3 KB\n"
     ]
    }
   ],
   "source": [
    "bike_sharing_conv.info()"
   ]
  },
  {
   "cell_type": "code",
   "execution_count": 26,
   "id": "b696d07f",
   "metadata": {},
   "outputs": [
    {
     "name": "stdout",
     "output_type": "stream",
     "text": [
      "Accuracy of the model :  0.9946538143322402\n"
     ]
    }
   ],
   "source": [
    "x_train, x_test, y_train, y_test = train_test_split(x,y,test_size=0.3)\n",
    "model = RandomForestRegressor()\n",
    "\n",
    "model.fit(x_train,y_train)\n",
    "\n",
    "model_score = model.score(x_test,y_test)\n",
    "print('Accuracy of the model : ',model_score)"
   ]
  },
  {
   "cell_type": "code",
   "execution_count": 27,
   "id": "67327c73",
   "metadata": {},
   "outputs": [
    {
     "name": "stdout",
     "output_type": "stream",
     "text": [
      "[0.9959103  0.99465898 0.99582609 0.99428839 0.98988735]\n",
      "R-Squared Scores :  0.9941142215541616\n"
     ]
    }
   ],
   "source": [
    "r2_scores = cross_val_score(model, x_train, y_train, cv=5)\n",
    "print(r2_scores)\n",
    "print('R-Squared Scores : ',np.average(r2_scores))"
   ]
  },
  {
   "cell_type": "code",
   "execution_count": 28,
   "id": "eaaf4e93",
   "metadata": {},
   "outputs": [
    {
     "name": "stdout",
     "output_type": "stream",
     "text": [
      "Accuracy : 99.41%\n"
     ]
    }
   ],
   "source": [
    "print(f\"Accuracy : {np.mean(r2_scores)*100:.2f}%\")"
   ]
  },
  {
   "cell_type": "code",
   "execution_count": 29,
   "id": "a2388c38",
   "metadata": {},
   "outputs": [
    {
     "data": {
      "text/plain": [
       "array([7063.81, 2370.9 , 6884.43, 5438.08, 7490.46, 6357.08, 2347.43,\n",
       "       4102.15, 7484.14, 5084.47, 3448.65, 7302.07, 4587.33, 4716.64,\n",
       "       5227.17, 7095.22, 5125.99, 6735.76, 2197.81, 2707.78, 3267.57,\n",
       "       4684.36, 6751.46, 2184.43, 7699.19, 6897.86, 5644.44, 6859.12,\n",
       "       4173.22, 6847.42, 6211.46, 2422.95, 2106.49, 4668.7 , 3788.59,\n",
       "       1724.11, 5622.34, 4093.8 , 1539.59, 7605.2 , 6427.21, 7398.29,\n",
       "       2649.07, 7832.26, 2690.54, 2322.15, 1691.56, 3723.38, 5050.85,\n",
       "       3526.84, 1198.49, 4716.33, 4469.75, 6857.55, 7648.19, 2184.25,\n",
       "       4593.33, 3608.71, 7691.68, 3280.66, 4600.54, 6347.96, 3847.02,\n",
       "       1968.71, 7440.95, 5279.95, 7311.21, 2096.34, 6176.  , 1638.16,\n",
       "       3393.46, 4468.28, 4255.88, 6575.73, 2385.66, 2827.61, 3213.08,\n",
       "       1411.66, 2031.76, 7455.05, 3633.85, 7729.4 , 3335.27, 4797.63,\n",
       "       2682.96, 6678.57, 6596.34, 5617.24, 7360.35, 7150.09, 4068.92,\n",
       "       4884.14, 4851.96, 7549.16, 1391.53,  762.91, 5191.71, 4526.21,\n",
       "       5979.67, 3568.3 , 1584.26, 2067.14, 5443.68, 2382.84, 4277.47,\n",
       "       4678.14, 1677.66, 1069.96, 7658.52, 6881.14, 3213.68, 2995.15,\n",
       "       7492.79, 3355.65, 6666.48, 1579.03, 4577.54, 5294.44, 1537.33,\n",
       "       4456.62, 2936.45, 6912.72,  792.16, 3616.01, 5025.23, 5583.13,\n",
       "       5845.86, 4159.8 , 2196.81, 3330.62, 3566.9 , 3959.24, 1866.48,\n",
       "       5155.8 , 4168.6 , 2704.46, 3292.45, 5678.18, 2053.44, 3454.33,\n",
       "       4189.64, 1470.66, 5299.29, 4090.42, 5265.39, 6512.47, 5086.9 ,\n",
       "       7779.78, 4362.2 , 2749.25, 1784.64, 7655.74, 3776.24, 4231.43,\n",
       "       4650.81, 7254.24, 6254.31, 7523.02, 1671.68, 7426.44, 3818.95,\n",
       "       5351.55, 4078.41, 5356.14, 4829.21, 6269.46, 1901.79, 2124.86,\n",
       "       1876.16, 6258.81, 2001.36, 4203.88, 7034.67, 6787.56, 4194.41,\n",
       "       4820.48, 6928.35,  758.4 , 4129.18, 4909.87, 1585.  , 3441.99,\n",
       "       7241.05, 3583.32, 2734.11, 4988.86, 3930.3 , 5357.7 , 3809.09,\n",
       "       4231.85, 3246.78, 4164.67, 6173.52, 7379.28, 4142.52, 7192.17,\n",
       "       5568.12, 6066.25, 4856.78, 6618.78, 2314.42, 4738.39, 5926.04,\n",
       "       1878.17, 5932.32, 2771.07, 6087.49, 2461.74, 2503.3 , 4590.45,\n",
       "       4564.01, 4836.24, 4015.08, 7500.55, 2444.12, 7071.64, 2167.56,\n",
       "       5603.5 , 4270.81,  552.84])"
      ]
     },
     "execution_count": 29,
     "metadata": {},
     "output_type": "execute_result"
    }
   ],
   "source": [
    "model.predict(x_test)"
   ]
  },
  {
   "cell_type": "code",
   "execution_count": 30,
   "id": "7d50111d",
   "metadata": {},
   "outputs": [
    {
     "name": "stdout",
     "output_type": "stream",
     "text": [
      "88.73409090909091\n",
      "20551.886456363638\n"
     ]
    }
   ],
   "source": [
    "from sklearn.metrics import mean_absolute_error,mean_squared_error\n",
    "from sklearn.metrics import r2_score\n",
    "y_preds = model.predict(x_test)\n",
    "mae = mean_absolute_error(y_test,y_preds)\n",
    "print(mae)\n",
    "\n",
    "mse = mean_squared_error(y_test,y_preds)\n",
    "print(mse)"
   ]
  },
  {
   "cell_type": "code",
   "execution_count": 31,
   "id": "a228a8c1",
   "metadata": {},
   "outputs": [
    {
     "data": {
      "text/plain": [
       "520    6998\n",
       "364    2485\n",
       "569    6966\n",
       "436    5298\n",
       "656    7509\n",
       "       ... \n",
       "544    6879\n",
       "366    1951\n",
       "712    5532\n",
       "192    4258\n",
       "667      22\n",
       "Name: total_count, Length: 220, dtype: int64"
      ]
     },
     "execution_count": 31,
     "metadata": {},
     "output_type": "execute_result"
    }
   ],
   "source": [
    "y_test"
   ]
  },
  {
   "cell_type": "code",
   "execution_count": 32,
   "id": "8d8fa7c0",
   "metadata": {},
   "outputs": [
    {
     "data": {
      "text/plain": [
       "array([7063.81, 2370.9 , 6884.43, 5438.08, 7490.46, 6357.08, 2347.43,\n",
       "       4102.15, 7484.14, 5084.47, 3448.65, 7302.07, 4587.33, 4716.64,\n",
       "       5227.17, 7095.22, 5125.99, 6735.76, 2197.81, 2707.78, 3267.57,\n",
       "       4684.36, 6751.46, 2184.43, 7699.19, 6897.86, 5644.44, 6859.12,\n",
       "       4173.22, 6847.42, 6211.46, 2422.95, 2106.49, 4668.7 , 3788.59,\n",
       "       1724.11, 5622.34, 4093.8 , 1539.59, 7605.2 , 6427.21, 7398.29,\n",
       "       2649.07, 7832.26, 2690.54, 2322.15, 1691.56, 3723.38, 5050.85,\n",
       "       3526.84, 1198.49, 4716.33, 4469.75, 6857.55, 7648.19, 2184.25,\n",
       "       4593.33, 3608.71, 7691.68, 3280.66, 4600.54, 6347.96, 3847.02,\n",
       "       1968.71, 7440.95, 5279.95, 7311.21, 2096.34, 6176.  , 1638.16,\n",
       "       3393.46, 4468.28, 4255.88, 6575.73, 2385.66, 2827.61, 3213.08,\n",
       "       1411.66, 2031.76, 7455.05, 3633.85, 7729.4 , 3335.27, 4797.63,\n",
       "       2682.96, 6678.57, 6596.34, 5617.24, 7360.35, 7150.09, 4068.92,\n",
       "       4884.14, 4851.96, 7549.16, 1391.53,  762.91, 5191.71, 4526.21,\n",
       "       5979.67, 3568.3 , 1584.26, 2067.14, 5443.68, 2382.84, 4277.47,\n",
       "       4678.14, 1677.66, 1069.96, 7658.52, 6881.14, 3213.68, 2995.15,\n",
       "       7492.79, 3355.65, 6666.48, 1579.03, 4577.54, 5294.44, 1537.33,\n",
       "       4456.62, 2936.45, 6912.72,  792.16, 3616.01, 5025.23, 5583.13,\n",
       "       5845.86, 4159.8 , 2196.81, 3330.62, 3566.9 , 3959.24, 1866.48,\n",
       "       5155.8 , 4168.6 , 2704.46, 3292.45, 5678.18, 2053.44, 3454.33,\n",
       "       4189.64, 1470.66, 5299.29, 4090.42, 5265.39, 6512.47, 5086.9 ,\n",
       "       7779.78, 4362.2 , 2749.25, 1784.64, 7655.74, 3776.24, 4231.43,\n",
       "       4650.81, 7254.24, 6254.31, 7523.02, 1671.68, 7426.44, 3818.95,\n",
       "       5351.55, 4078.41, 5356.14, 4829.21, 6269.46, 1901.79, 2124.86,\n",
       "       1876.16, 6258.81, 2001.36, 4203.88, 7034.67, 6787.56, 4194.41,\n",
       "       4820.48, 6928.35,  758.4 , 4129.18, 4909.87, 1585.  , 3441.99,\n",
       "       7241.05, 3583.32, 2734.11, 4988.86, 3930.3 , 5357.7 , 3809.09,\n",
       "       4231.85, 3246.78, 4164.67, 6173.52, 7379.28, 4142.52, 7192.17,\n",
       "       5568.12, 6066.25, 4856.78, 6618.78, 2314.42, 4738.39, 5926.04,\n",
       "       1878.17, 5932.32, 2771.07, 6087.49, 2461.74, 2503.3 , 4590.45,\n",
       "       4564.01, 4836.24, 4015.08, 7500.55, 2444.12, 7071.64, 2167.56,\n",
       "       5603.5 , 4270.81,  552.84])"
      ]
     },
     "execution_count": 32,
     "metadata": {},
     "output_type": "execute_result"
    }
   ],
   "source": [
    "y_preds = model.predict(x_test)\n",
    "y_preds"
   ]
  },
  {
   "cell_type": "code",
   "execution_count": 33,
   "id": "3859accd",
   "metadata": {},
   "outputs": [
    {
     "data": {
      "text/plain": [
       "array([7063.81, 2370.9 , 6884.43, 5438.08, 7490.46, 6357.08, 2347.43,\n",
       "       4102.15, 7484.14, 5084.47, 3448.65, 7302.07, 4587.33, 4716.64,\n",
       "       5227.17, 7095.22, 5125.99, 6735.76, 2197.81, 2707.78, 3267.57,\n",
       "       4684.36, 6751.46, 2184.43, 7699.19, 6897.86, 5644.44, 6859.12,\n",
       "       4173.22, 6847.42, 6211.46, 2422.95, 2106.49, 4668.7 , 3788.59,\n",
       "       1724.11, 5622.34, 4093.8 , 1539.59, 7605.2 , 6427.21, 7398.29,\n",
       "       2649.07, 7832.26, 2690.54, 2322.15, 1691.56, 3723.38, 5050.85,\n",
       "       3526.84, 1198.49, 4716.33, 4469.75, 6857.55, 7648.19, 2184.25,\n",
       "       4593.33, 3608.71, 7691.68, 3280.66, 4600.54, 6347.96, 3847.02,\n",
       "       1968.71, 7440.95, 5279.95, 7311.21, 2096.34, 6176.  , 1638.16,\n",
       "       3393.46, 4468.28, 4255.88, 6575.73, 2385.66, 2827.61, 3213.08,\n",
       "       1411.66, 2031.76, 7455.05, 3633.85, 7729.4 , 3335.27, 4797.63,\n",
       "       2682.96, 6678.57, 6596.34, 5617.24, 7360.35, 7150.09, 4068.92,\n",
       "       4884.14, 4851.96, 7549.16, 1391.53,  762.91, 5191.71, 4526.21,\n",
       "       5979.67, 3568.3 , 1584.26, 2067.14, 5443.68, 2382.84, 4277.47,\n",
       "       4678.14, 1677.66, 1069.96, 7658.52, 6881.14, 3213.68, 2995.15,\n",
       "       7492.79, 3355.65, 6666.48, 1579.03, 4577.54, 5294.44, 1537.33,\n",
       "       4456.62, 2936.45, 6912.72,  792.16, 3616.01, 5025.23, 5583.13,\n",
       "       5845.86, 4159.8 , 2196.81, 3330.62, 3566.9 , 3959.24, 1866.48,\n",
       "       5155.8 , 4168.6 , 2704.46, 3292.45, 5678.18, 2053.44, 3454.33,\n",
       "       4189.64, 1470.66, 5299.29, 4090.42, 5265.39, 6512.47, 5086.9 ,\n",
       "       7779.78, 4362.2 , 2749.25, 1784.64, 7655.74, 3776.24, 4231.43,\n",
       "       4650.81, 7254.24, 6254.31, 7523.02, 1671.68, 7426.44, 3818.95,\n",
       "       5351.55, 4078.41, 5356.14, 4829.21, 6269.46, 1901.79, 2124.86,\n",
       "       1876.16, 6258.81, 2001.36, 4203.88, 7034.67, 6787.56, 4194.41,\n",
       "       4820.48, 6928.35,  758.4 , 4129.18, 4909.87, 1585.  , 3441.99,\n",
       "       7241.05, 3583.32, 2734.11, 4988.86, 3930.3 , 5357.7 , 3809.09,\n",
       "       4231.85, 3246.78, 4164.67, 6173.52, 7379.28, 4142.52, 7192.17,\n",
       "       5568.12, 6066.25, 4856.78, 6618.78, 2314.42, 4738.39, 5926.04,\n",
       "       1878.17, 5932.32, 2771.07, 6087.49, 2461.74, 2503.3 , 4590.45,\n",
       "       4564.01, 4836.24, 4015.08, 7500.55, 2444.12, 7071.64, 2167.56,\n",
       "       5603.5 , 4270.81,  552.84])"
      ]
     },
     "execution_count": 33,
     "metadata": {},
     "output_type": "execute_result"
    }
   ],
   "source": [
    "predict = cross_val_predict(model, x_train, y_train,cv=5)\n",
    "model_preds = model.predict(x_test)\n",
    "model_preds"
   ]
  },
  {
   "cell_type": "code",
   "execution_count": 34,
   "id": "7873cc81",
   "metadata": {},
   "outputs": [
    {
     "data": {
      "text/html": [
       "<div>\n",
       "<style scoped>\n",
       "    .dataframe tbody tr th:only-of-type {\n",
       "        vertical-align: middle;\n",
       "    }\n",
       "\n",
       "    .dataframe tbody tr th {\n",
       "        vertical-align: top;\n",
       "    }\n",
       "\n",
       "    .dataframe thead th {\n",
       "        text-align: right;\n",
       "    }\n",
       "</style>\n",
       "<table border=\"1\" class=\"dataframe\">\n",
       "  <thead>\n",
       "    <tr style=\"text-align: right;\">\n",
       "      <th></th>\n",
       "      <th>Actual Values</th>\n",
       "      <th>predictions</th>\n",
       "    </tr>\n",
       "  </thead>\n",
       "  <tbody>\n",
       "    <tr>\n",
       "      <th>520</th>\n",
       "      <td>6998</td>\n",
       "      <td>7063.81</td>\n",
       "    </tr>\n",
       "    <tr>\n",
       "      <th>364</th>\n",
       "      <td>2485</td>\n",
       "      <td>2370.90</td>\n",
       "    </tr>\n",
       "    <tr>\n",
       "      <th>569</th>\n",
       "      <td>6966</td>\n",
       "      <td>6884.43</td>\n",
       "    </tr>\n",
       "    <tr>\n",
       "      <th>436</th>\n",
       "      <td>5298</td>\n",
       "      <td>5438.08</td>\n",
       "    </tr>\n",
       "    <tr>\n",
       "      <th>656</th>\n",
       "      <td>7509</td>\n",
       "      <td>7490.46</td>\n",
       "    </tr>\n",
       "    <tr>\n",
       "      <th>...</th>\n",
       "      <td>...</td>\n",
       "      <td>...</td>\n",
       "    </tr>\n",
       "    <tr>\n",
       "      <th>544</th>\n",
       "      <td>6879</td>\n",
       "      <td>7071.64</td>\n",
       "    </tr>\n",
       "    <tr>\n",
       "      <th>366</th>\n",
       "      <td>1951</td>\n",
       "      <td>2167.56</td>\n",
       "    </tr>\n",
       "    <tr>\n",
       "      <th>712</th>\n",
       "      <td>5532</td>\n",
       "      <td>5603.50</td>\n",
       "    </tr>\n",
       "    <tr>\n",
       "      <th>192</th>\n",
       "      <td>4258</td>\n",
       "      <td>4270.81</td>\n",
       "    </tr>\n",
       "    <tr>\n",
       "      <th>667</th>\n",
       "      <td>22</td>\n",
       "      <td>552.84</td>\n",
       "    </tr>\n",
       "  </tbody>\n",
       "</table>\n",
       "<p>220 rows × 2 columns</p>\n",
       "</div>"
      ],
      "text/plain": [
       "     Actual Values  predictions\n",
       "520           6998      7063.81\n",
       "364           2485      2370.90\n",
       "569           6966      6884.43\n",
       "436           5298      5438.08\n",
       "656           7509      7490.46\n",
       "..             ...          ...\n",
       "544           6879      7071.64\n",
       "366           1951      2167.56\n",
       "712           5532      5603.50\n",
       "192           4258      4270.81\n",
       "667             22       552.84\n",
       "\n",
       "[220 rows x 2 columns]"
      ]
     },
     "execution_count": 34,
     "metadata": {},
     "output_type": "execute_result"
    }
   ],
   "source": [
    "result = pd.DataFrame(data={\"Actual Values\" : y_test,\n",
    "                           \"predictions\": y_preds})\n",
    "result"
   ]
  },
  {
   "cell_type": "code",
   "execution_count": 35,
   "id": "c181122f",
   "metadata": {},
   "outputs": [
    {
     "name": "stdout",
     "output_type": "stream",
     "text": [
      "Accuracy : 99.41%\n"
     ]
    }
   ],
   "source": [
    "print(f\"Accuracy : {np.mean(r2_scores)*100:.2f}%\")"
   ]
  },
  {
   "cell_type": "code",
   "execution_count": 36,
   "id": "a178262a",
   "metadata": {},
   "outputs": [
    {
     "name": "stdout",
     "output_type": "stream",
     "text": [
      "Regression model metrics on the test set:\n",
      "MAE: 88.7341\n",
      "MSE: 20551.8865\n"
     ]
    }
   ],
   "source": [
    "print(\"Regression model metrics on the test set:\")\n",
    "\n",
    "print(f\"MAE: {mean_absolute_error(y_test, y_preds):.4f}\")\n",
    "print(f\"MSE: {mean_squared_error(y_test, y_preds):.4f}\")"
   ]
  },
  {
   "cell_type": "code",
   "execution_count": 37,
   "id": "781637a8",
   "metadata": {},
   "outputs": [
    {
     "name": "stdout",
     "output_type": "stream",
     "text": [
      "R^2: 0.9947\n"
     ]
    }
   ],
   "source": [
    "\n",
    "print(f\"R^2: {r2_score(y_test, y_preds):.4f}\")\n"
   ]
  },
  {
   "cell_type": "code",
   "execution_count": 38,
   "id": "f9b37f67",
   "metadata": {},
   "outputs": [],
   "source": [
    "def result():\n",
    "    \n",
    "    print(\"Regression model metrics on the test set:\")\n",
    "    print(f\"R^2: {r2_score(y_test, y_preds):.4f}\")\n",
    "    print(f\"MAE: {mean_absolute_error(y_test, y_preds):.4f}\")\n",
    "    print(f\"MSE: {mean_squared_error(y_test, y_preds):.4f}\")"
   ]
  },
  {
   "cell_type": "code",
   "execution_count": 39,
   "id": "63c1653c",
   "metadata": {},
   "outputs": [
    {
     "name": "stdout",
     "output_type": "stream",
     "text": [
      "Regression model metrics on the test set:\n",
      "R^2: 0.9947\n",
      "MAE: 88.7341\n",
      "MSE: 20551.8865\n"
     ]
    }
   ],
   "source": [
    "result()"
   ]
  },
  {
   "cell_type": "code",
   "execution_count": 40,
   "id": "d20c98eb",
   "metadata": {},
   "outputs": [
    {
     "name": "stdout",
     "output_type": "stream",
     "text": [
      "{'n_estimators': [200, 400, 600, 800, 1000, 1200, 1400, 1600, 1800, 2000], 'max_features': ['auto', 'sqrt', 'log2'], 'max_depth': [10, 120, 230, 340, 450, 560, 670, 780, 890, 1000], 'min_samples_split': [2, 5, 10, 14], 'min_samples_leaf': [1, 2, 4, 6, 8]}\n"
     ]
    }
   ],
   "source": [
    "import numpy as np\n",
    "np.random.seed(88)\n",
    "from sklearn.model_selection import RandomizedSearchCV\n",
    "# Number of trees in random forest\n",
    "n_estimators = [int(x) for x in np.linspace(start = 200, stop = 2000, num = 10)]\n",
    "# Number of features to consider at every split\n",
    "max_features = ['auto', 'sqrt','log2']\n",
    "# Maximum number of levels in tree\n",
    "max_depth = [int(x) for x in np.linspace(10, 1000,10)]\n",
    "# Minimum number of samples required to split a node\n",
    "min_samples_split = [2, 5, 10,14]\n",
    "# Minimum number of samples required at each leaf node\n",
    "min_samples_leaf = [1, 2, 4,6,8]\n",
    "# Create the random grid\n",
    "random_grid = {'n_estimators': n_estimators,\n",
    "               'max_features': max_features,\n",
    "               'max_depth': max_depth,\n",
    "               'min_samples_split': min_samples_split,\n",
    "               'min_samples_leaf': min_samples_leaf}\n",
    "print(random_grid)"
   ]
  },
  {
   "cell_type": "code",
   "execution_count": 41,
   "id": "df4c682b",
   "metadata": {},
   "outputs": [
    {
     "name": "stdout",
     "output_type": "stream",
     "text": [
      "Fitting 4 folds for each of 100 candidates, totalling 400 fits\n"
     ]
    },
    {
     "data": {
      "text/plain": [
       "RandomizedSearchCV(cv=4, estimator=RandomForestRegressor(), n_iter=100,\n",
       "                   n_jobs=-1,\n",
       "                   param_distributions={'max_depth': [10, 120, 230, 340, 450,\n",
       "                                                      560, 670, 780, 890,\n",
       "                                                      1000],\n",
       "                                        'max_features': ['auto', 'sqrt',\n",
       "                                                         'log2'],\n",
       "                                        'min_samples_leaf': [1, 2, 4, 6, 8],\n",
       "                                        'min_samples_split': [2, 5, 10, 14],\n",
       "                                        'n_estimators': [200, 400, 600, 800,\n",
       "                                                         1000, 1200, 1400, 1600,\n",
       "                                                         1800, 2000]},\n",
       "                   verbose=2)"
      ]
     },
     "execution_count": 41,
     "metadata": {},
     "output_type": "execute_result"
    }
   ],
   "source": [
    "rf = RandomForestRegressor()\n",
    "rf_randomcv = RandomizedSearchCV(estimator=rf, param_distributions= random_grid,n_iter = 100,cv=4,verbose=2,n_jobs=-1)\n",
    "rf_randomcv.fit(x_train,y_train)\n"
   ]
  },
  {
   "cell_type": "code",
   "execution_count": 42,
   "id": "8898bcf7",
   "metadata": {},
   "outputs": [
    {
     "data": {
      "text/plain": [
       "{'n_estimators': 1000,\n",
       " 'min_samples_split': 2,\n",
       " 'min_samples_leaf': 1,\n",
       " 'max_features': 'auto',\n",
       " 'max_depth': 120}"
      ]
     },
     "execution_count": 42,
     "metadata": {},
     "output_type": "execute_result"
    }
   ],
   "source": [
    "rf_randomcv.best_params_"
   ]
  },
  {
   "cell_type": "code",
   "execution_count": 43,
   "id": "5fe39d0f",
   "metadata": {},
   "outputs": [
    {
     "data": {
      "text/plain": [
       "RandomizedSearchCV(cv=4, estimator=RandomForestRegressor(), n_iter=100,\n",
       "                   n_jobs=-1,\n",
       "                   param_distributions={'max_depth': [10, 120, 230, 340, 450,\n",
       "                                                      560, 670, 780, 890,\n",
       "                                                      1000],\n",
       "                                        'max_features': ['auto', 'sqrt',\n",
       "                                                         'log2'],\n",
       "                                        'min_samples_leaf': [1, 2, 4, 6, 8],\n",
       "                                        'min_samples_split': [2, 5, 10, 14],\n",
       "                                        'n_estimators': [200, 400, 600, 800,\n",
       "                                                         1000, 1200, 1400, 1600,\n",
       "                                                         1800, 2000]},\n",
       "                   verbose=2)"
      ]
     },
     "execution_count": 43,
     "metadata": {},
     "output_type": "execute_result"
    }
   ],
   "source": [
    "\n",
    "rf_randomcv"
   ]
  },
  {
   "cell_type": "code",
   "execution_count": 44,
   "id": "5b6c44fa",
   "metadata": {},
   "outputs": [
    {
     "name": "stdout",
     "output_type": "stream",
     "text": [
      "Regression model metrics on the test set:\n",
      "R^2: 0.9947\n",
      "MAE: 88.7341\n",
      "MSE: 20551.8865\n"
     ]
    }
   ],
   "source": [
    "result()"
   ]
  },
  {
   "cell_type": "code",
   "execution_count": 45,
   "id": "d7b7768c",
   "metadata": {},
   "outputs": [],
   "source": [
    "best_random_grid=rf_randomcv.best_estimator_\n",
    "y_preds = best_random_grid.predict(x_test)\n"
   ]
  },
  {
   "cell_type": "code",
   "execution_count": 46,
   "id": "54e7bf50",
   "metadata": {},
   "outputs": [
    {
     "name": "stdout",
     "output_type": "stream",
     "text": [
      "Regression model metrics on the test set:\n",
      "R^2: 0.9947\n",
      "MAE: 88.2172\n",
      "MSE: 20384.1861\n"
     ]
    }
   ],
   "source": [
    "result()"
   ]
  },
  {
   "cell_type": "markdown",
   "id": "cebfdee3",
   "metadata": {},
   "source": [
    "**GridSearchCV**"
   ]
  },
  {
   "cell_type": "code",
   "execution_count": 47,
   "id": "a25e1f52",
   "metadata": {},
   "outputs": [
    {
     "data": {
      "text/plain": [
       "{'n_estimators': 1000,\n",
       " 'min_samples_split': 2,\n",
       " 'min_samples_leaf': 1,\n",
       " 'max_features': 'auto',\n",
       " 'max_depth': 120}"
      ]
     },
     "execution_count": 47,
     "metadata": {},
     "output_type": "execute_result"
    }
   ],
   "source": [
    "rf_randomcv.best_params_\n"
   ]
  },
  {
   "cell_type": "code",
   "execution_count": 48,
   "id": "eeb5eed8",
   "metadata": {},
   "outputs": [
    {
     "name": "stdout",
     "output_type": "stream",
     "text": [
      "{'max_depth': [120], 'max_features': ['auto'], 'min_samples_leaf': [1, 3, 5], 'min_samples_split': [2, 0, 1, 2, 3, 4], 'n_estimators': [800, 900, 1000, 1100, 1200]}\n"
     ]
    }
   ],
   "source": [
    "np.random.seed(88)\n",
    "from sklearn.model_selection import GridSearchCV\n",
    "\n",
    "\n",
    "param_grid ={\n",
    "    'max_depth' : [rf_randomcv.best_params_['max_depth']],\n",
    "    'max_features' : [\n",
    "        rf_randomcv.best_params_['max_features']\n",
    "                    ],\n",
    "    'min_samples_leaf' : [\n",
    "        rf_randomcv.best_params_['min_samples_leaf'],\n",
    "        rf_randomcv.best_params_['min_samples_leaf']+2,\n",
    "        rf_randomcv.best_params_['min_samples_leaf']+ 4\n",
    "                            ],\n",
    "    'min_samples_split' : [\n",
    "        rf_randomcv.best_params_['min_samples_split'],\n",
    "        rf_randomcv.best_params_['min_samples_split']- 2,\n",
    "        rf_randomcv.best_params_['min_samples_split']- 1,\n",
    "        rf_randomcv.best_params_['min_samples_split'],\n",
    "        rf_randomcv.best_params_['min_samples_split']+1,\n",
    "        rf_randomcv.best_params_['min_samples_split']+2\n",
    "                         ],\n",
    "    'n_estimators' : [\n",
    "        rf_randomcv.best_params_['n_estimators']-200,\n",
    "        rf_randomcv.best_params_['n_estimators']-100,\n",
    "        rf_randomcv.best_params_['n_estimators'],\n",
    "        rf_randomcv.best_params_['n_estimators']+100,\n",
    "        rf_randomcv.best_params_['n_estimators']+200\n",
    "                    ]\n",
    "}\n",
    "\n",
    "print(param_grid)"
   ]
  },
  {
   "cell_type": "code",
   "execution_count": 49,
   "id": "c4600b6b",
   "metadata": {},
   "outputs": [
    {
     "name": "stdout",
     "output_type": "stream",
     "text": [
      "Fitting 10 folds for each of 90 candidates, totalling 900 fits\n"
     ]
    },
    {
     "data": {
      "text/plain": [
       "GridSearchCV(cv=10, estimator=RandomForestRegressor(), n_jobs=-1,\n",
       "             param_grid={'max_depth': [120], 'max_features': ['auto'],\n",
       "                         'min_samples_leaf': [1, 3, 5],\n",
       "                         'min_samples_split': [2, 0, 1, 2, 3, 4],\n",
       "                         'n_estimators': [800, 900, 1000, 1100, 1200]},\n",
       "             verbose=2)"
      ]
     },
     "execution_count": 49,
     "metadata": {},
     "output_type": "execute_result"
    }
   ],
   "source": [
    "rf = RandomForestRegressor()\n",
    "grid_search = GridSearchCV(estimator=rf,param_grid=param_grid,cv=10,n_jobs=-1,verbose=2)\n",
    "\n",
    "grid_search.fit(x_train,y_train)"
   ]
  },
  {
   "cell_type": "code",
   "execution_count": 50,
   "id": "b1171b01",
   "metadata": {},
   "outputs": [
    {
     "data": {
      "text/plain": [
       "RandomForestRegressor(max_depth=120, min_samples_split=3, n_estimators=800)"
      ]
     },
     "execution_count": 50,
     "metadata": {},
     "output_type": "execute_result"
    }
   ],
   "source": [
    "grid_search.best_estimator_"
   ]
  },
  {
   "cell_type": "code",
   "execution_count": 51,
   "id": "3e73c6b1",
   "metadata": {},
   "outputs": [],
   "source": [
    "best_grid = grid_search.best_estimator_"
   ]
  },
  {
   "cell_type": "code",
   "execution_count": 52,
   "id": "3551260f",
   "metadata": {},
   "outputs": [
    {
     "data": {
      "text/plain": [
       "RandomForestRegressor(max_depth=120, min_samples_split=3, n_estimators=800)"
      ]
     },
     "execution_count": 52,
     "metadata": {},
     "output_type": "execute_result"
    }
   ],
   "source": [
    "best_grid"
   ]
  },
  {
   "cell_type": "code",
   "execution_count": 53,
   "id": "153fc5bc",
   "metadata": {},
   "outputs": [
    {
     "name": "stdout",
     "output_type": "stream",
     "text": [
      "Regression model metrics on the test set:\n",
      "R^2: 0.9947\n",
      "MAE: 86.9223\n",
      "MSE: 20295.7495\n"
     ]
    }
   ],
   "source": [
    "y_preds = best_grid.predict(x_test)\n",
    "\n",
    "result()"
   ]
  },
  {
   "cell_type": "code",
   "execution_count": 54,
   "id": "f7eca006",
   "metadata": {},
   "outputs": [],
   "source": [
    "np.random.seed(88)\n",
    "from hyperopt import hp,fmin,tpe,STATUS_OK,Trials\n",
    "\n",
    "\n",
    "space = {'criterion': hp.choice('criterion', ['mae', 'mse']),\n",
    "        'max_depth': hp.quniform('max_depth', 10, 1000, 10),\n",
    "        'max_features': hp.choice('max_features', ['auto', 'sqrt','log2', None]),\n",
    "        'min_samples_leaf': hp.uniform('min_samples_leaf', 0, 1),\n",
    "        'min_samples_split' : hp.uniform ('min_samples_split', 0,1),\n",
    "        'n_estimators' : hp.choice('n_estimators', [10, 50,100, 300,800,1200,1300,1400,1500])\n",
    "    }"
   ]
  },
  {
   "cell_type": "code",
   "execution_count": 55,
   "id": "de254144",
   "metadata": {
    "scrolled": true
   },
   "outputs": [
    {
     "data": {
      "text/plain": [
       "{'criterion': <hyperopt.pyll.base.Apply at 0x20d6ac591f0>,\n",
       " 'max_depth': <hyperopt.pyll.base.Apply at 0x20d6b70a6a0>,\n",
       " 'max_features': <hyperopt.pyll.base.Apply at 0x20d6b70a730>,\n",
       " 'min_samples_leaf': <hyperopt.pyll.base.Apply at 0x20d6b70a910>,\n",
       " 'min_samples_split': <hyperopt.pyll.base.Apply at 0x20d6b70aa30>,\n",
       " 'n_estimators': <hyperopt.pyll.base.Apply at 0x20d6b70ab20>}"
      ]
     },
     "execution_count": 55,
     "metadata": {},
     "output_type": "execute_result"
    }
   ],
   "source": [
    "space"
   ]
  },
  {
   "cell_type": "code",
   "execution_count": 56,
   "id": "cbd15038",
   "metadata": {},
   "outputs": [],
   "source": [
    "def objective(space):\n",
    "    model = RandomForestRegressor(\n",
    "        criterion = space['criterion'],\n",
    "        max_depth = space['max_depth'],\n",
    "        max_features = space['max_features'],\n",
    "        min_samples_leaf = space['min_samples_leaf'],\n",
    "        min_samples_split = space['min_samples_split'],\n",
    "        n_estimators = space['n_estimators']\n",
    "    )\n",
    "    \n",
    "    accuracy = cross_val_score(model,x_train,y_train,cv=5).mean()\n",
    "    \n",
    "    return{'loss': -accuracy,'status': STATUS_OK}\n"
   ]
  },
  {
   "cell_type": "code",
   "execution_count": 57,
   "id": "8c9f1af3",
   "metadata": {},
   "outputs": [
    {
     "name": "stdout",
     "output_type": "stream",
     "text": [
      "100%|█████████████████████████████████████████████| 80/80 [1:11:57<00:00, 53.97s/trial, best loss: -0.9106408094084874]\n"
     ]
    },
    {
     "data": {
      "text/plain": [
       "{'criterion': 1,\n",
       " 'max_depth': 850.0,\n",
       " 'max_features': 0,\n",
       " 'min_samples_leaf': 0.08662835139023939,\n",
       " 'min_samples_split': 0.15384948047618552,\n",
       " 'n_estimators': 7}"
      ]
     },
     "execution_count": 57,
     "metadata": {},
     "output_type": "execute_result"
    }
   ],
   "source": [
    "from sklearn.model_selection import cross_val_score\n",
    "trials = Trials()\n",
    "best = fmin(fn= objective,\n",
    "            space= space,\n",
    "            algo= tpe.suggest,\n",
    "            max_evals = 80,\n",
    "            trials= trials)\n",
    "best"
   ]
  },
  {
   "cell_type": "code",
   "execution_count": 58,
   "id": "637166f3",
   "metadata": {},
   "outputs": [
    {
     "name": "stdout",
     "output_type": "stream",
     "text": [
      "mae\n",
      "auto\n",
      "1400\n"
     ]
    }
   ],
   "source": [
    "crit = {0: 'mse', 1: 'mae'}\n",
    "feat = {0: 'auto', 1: 'sqrt', 2: 'log2', 3: None}\n",
    "est = {0:10, 1:50,2:100,3:300,4:800,5:1200,6:1300,7:1400,8:1500}\n",
    "\n",
    "\n",
    "print(crit[best['criterion']])\n",
    "print(feat[best['max_features']])\n",
    "print(est[best['n_estimators']])"
   ]
  },
  {
   "cell_type": "code",
   "execution_count": 59,
   "id": "9191545c",
   "metadata": {},
   "outputs": [
    {
     "data": {
      "text/plain": [
       "0.08662835139023939"
      ]
     },
     "execution_count": 59,
     "metadata": {},
     "output_type": "execute_result"
    }
   ],
   "source": [
    "best['min_samples_leaf']\n"
   ]
  },
  {
   "cell_type": "code",
   "execution_count": 60,
   "id": "ccca6ea2",
   "metadata": {
    "scrolled": true
   },
   "outputs": [
    {
     "name": "stdout",
     "output_type": "stream",
     "text": [
      "Regression model metrics on the test set:\n",
      "R^2: 0.9364\n",
      "MAE: 350.2624\n",
      "MSE: 244361.5226\n"
     ]
    }
   ],
   "source": [
    "trainedforest = RandomForestRegressor(criterion = crit[best['criterion']], max_depth = best['max_depth'], \n",
    "                                       max_features = feat[best['max_features']], \n",
    "                                       min_samples_leaf = best['min_samples_leaf'], \n",
    "                                       min_samples_split = best['min_samples_split'], \n",
    "                                       n_estimators = est[best['n_estimators']]).fit(x_train,y_train)\n",
    "y_preds = trainedforest.predict(x_test)\n",
    "\n",
    "result()"
   ]
  },
  {
   "cell_type": "markdown",
   "id": "54a238b5",
   "metadata": {},
   "source": [
    "**Genetic Algorithms**"
   ]
  },
  {
   "cell_type": "code",
   "execution_count": 61,
   "id": "e68acbc4",
   "metadata": {},
   "outputs": [
    {
     "name": "stdout",
     "output_type": "stream",
     "text": [
      "{'n_estimators': [100, 200, 300, 400, 500, 600, 700, 800, 900, 1000, 1100, 1200, 1300, 1400, 1500, 1600, 1700, 1800, 1900, 2000], 'max_features': ['auto', 'sqrt', 'log2'], 'max_depth': [10, 64, 118, 173, 227, 282, 336, 391, 445, 500], 'min_samples_split': [2, 5, 7, 9, 10, 14], 'min_samples_leaf': [1, 2, 4, 6, 8, 10], 'criterion': ['mse', 'mae']}\n"
     ]
    }
   ],
   "source": [
    "import numpy as np\n",
    "np.random.seed(88)\n",
    "from sklearn.model_selection import RandomizedSearchCV\n",
    "# Number of trees in random forest\n",
    "n_estimators = [int(x) for x in np.linspace(start = 100, stop = 2000, num = 20)]\n",
    "# Number of features to consider at every split\n",
    "max_features = ['auto', 'sqrt','log2']\n",
    "# Maximum number of levels in tree\n",
    "max_depth = [int(x) for x in np.linspace(10,500,10)]\n",
    "# Minimum number of samples required to split a node\n",
    "min_samples_split = [2,5,7,9,10,14]\n",
    "# Minimum number of samples required at each leaf node\n",
    "min_samples_leaf = [1,2,4,6,8,10]\n",
    "# Create the random grid\n",
    "param = {'n_estimators': n_estimators,\n",
    "               'max_features': max_features,\n",
    "               'max_depth': max_depth,\n",
    "               'min_samples_split': min_samples_split,\n",
    "               'min_samples_leaf': min_samples_leaf,\n",
    "              'criterion':['mse','mae']}\n",
    "print(param)"
   ]
  },
  {
   "cell_type": "code",
   "execution_count": null,
   "id": "b38a1a47",
   "metadata": {
    "scrolled": false
   },
   "outputs": [
    {
     "name": "stdout",
     "output_type": "stream",
     "text": [
      "1 operators have been imported by TPOT.\n"
     ]
    },
    {
     "data": {
      "application/vnd.jupyter.widget-view+json": {
       "model_id": "3838df8a56b94b0191bb2952df69d810",
       "version_major": 2,
       "version_minor": 0
      },
      "text/plain": [
       "Optimization Progress:   0%|          | 0/600 [00:00<?, ?pipeline/s]"
      ]
     },
     "metadata": {},
     "output_type": "display_data"
    }
   ],
   "source": [
    "from tpot import TPOTRegressor\n",
    "\n",
    "\n",
    "tpot_regressor = TPOTRegressor(generations= 5, population_size= 100,\n",
    "                                 verbosity= 4, n_jobs = -1,\n",
    "                                 config_dict={'sklearn.ensemble.RandomForestRegressor': param}, \n",
    "                                 cv = 5)\n",
    "tpot_regressor.fit(x_train,y_train)"
   ]
  },
  {
   "cell_type": "code",
   "execution_count": null,
   "id": "c9024539",
   "metadata": {},
   "outputs": [],
   "source": [
    "accuracy = tpot_regressor.score(x_test, y_test)\n",
    "print(accuracy)"
   ]
  },
  {
   "cell_type": "code",
   "execution_count": null,
   "id": "45d3b555",
   "metadata": {},
   "outputs": [],
   "source": [
    "y_preds = tpot_regressor.predict(x_test)\n",
    "\n",
    "result()"
   ]
  }
 ],
 "metadata": {
  "kernelspec": {
   "display_name": "Python 3",
   "language": "python",
   "name": "python3"
  },
  "language_info": {
   "codemirror_mode": {
    "name": "ipython",
    "version": 3
   },
   "file_extension": ".py",
   "mimetype": "text/x-python",
   "name": "python",
   "nbconvert_exporter": "python",
   "pygments_lexer": "ipython3",
   "version": "3.8.11"
  }
 },
 "nbformat": 4,
 "nbformat_minor": 5
}
